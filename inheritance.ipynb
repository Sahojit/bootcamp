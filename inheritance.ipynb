{
 "cells": [
  {
   "cell_type": "code",
   "execution_count": 1,
   "metadata": {},
   "outputs": [
    {
     "name": "stdout",
     "output_type": "stream",
     "text": [
      "Animal makes a sound\n",
      "Dog barks\n"
     ]
    }
   ],
   "source": [
    "class Animal:\n",
    "    # Methods and attributes for the Animal class\n",
    "    def make_sound(self):\n",
    "        print(\"Animal makes a sound\")\n",
    "\n",
    "class Dog(Animal):\n",
    "    # Methods and attributes for the Dog class, inheriting from Animal\n",
    "    def bark(self):\n",
    "        print(\"Dog barks\")\n",
    "\n",
    "# Example usage\n",
    "my_pet = Dog()\n",
    "my_pet.make_sound()  # Inherited method from Animal class\n",
    "my_pet.bark()        # Method from Dog class\n"
   ]
  },
  {
   "cell_type": "code",
   "execution_count": 2,
   "metadata": {},
   "outputs": [
    {
     "name": "stdout",
     "output_type": "stream",
     "text": [
      "[<class '__main__.W'>, <class '__main__.Y'>, <class '__main__.Z'>, <class '__main__.X'>, <class 'object'>]\n"
     ]
    }
   ],
   "source": [
    "# MRO (Method Resolution Order): It is the order in which Python searches for methods in a class hierarchy when invoking a method on an instance.\n",
    "\n",
    "class X:\n",
    "    def show(self):\n",
    "        print(\"X show\")\n",
    "\n",
    "class Y(X):\n",
    "    pass\n",
    "\n",
    "class Z(X):\n",
    "    def show(self):\n",
    "        print(\"Z show\")\n",
    "\n",
    "class W(Y, Z):\n",
    "    pass\n",
    "\n",
    "print(W.mro())\n"
   ]
  },
  {
   "cell_type": "code",
   "execution_count": 3,
   "metadata": {},
   "outputs": [
    {
     "name": "stdout",
     "output_type": "stream",
     "text": [
      "This sound is from the Animal class.\n",
      "This bark is from the Dog class.\n",
      "This function is in Flyer class.\n",
      "This function is in Swimmer class.\n",
      "This function is in Duck class.\n",
      "This function is in Creature class.\n",
      "This function is in Mammal class.\n",
      "This function is in Human class.\n",
      "This function is in Vehicle class.\n",
      "This function is in Car class.\n",
      "This function is in Vehicle class.\n",
      "This function is in Bike class.\n"
     ]
    }
   ],
   "source": [
    "# Types Of Inheritance \n",
    "\n",
    "# Single Inheritance: When a child class inherits from a single parent class.\n",
    "\n",
    "class Animal:\n",
    "    def sound(self):\n",
    "        print(\"This sound is from the Animal class.\")\n",
    "\n",
    "class Dog(Animal):\n",
    "    def bark(self):\n",
    "        print(\"This bark is from the Dog class.\")\n",
    "\n",
    "pet = Dog()\n",
    "pet.sound() # Output: This sound is from the Animal class.\n",
    "pet.bark()  # Output: This bark is from the Dog class.\n",
    "\n",
    "# Multiple Inheritance: When a child class inherits from multiple parent classes.\n",
    "\n",
    "class Flyer:\n",
    "    def fly(self):\n",
    "        print(\"This function is in Flyer class.\")\n",
    "\n",
    "class Swimmer:\n",
    "    def swim(self):\n",
    "        print(\"This function is in Swimmer class.\")\n",
    "\n",
    "class Duck(Flyer, Swimmer):\n",
    "    def quack(self):\n",
    "        print(\"This function is in Duck class.\")\n",
    "\n",
    "bird = Duck()\n",
    "bird.fly()  # Output: This function is in Flyer class.\n",
    "bird.swim() # Output: This function is in Swimmer class.\n",
    "bird.quack()# Output: This function is in Duck class.\n",
    "\n",
    "# Multilevel Inheritance: When a child class inherits from a parent class, and that parent class inherits from another parent class.\n",
    "\n",
    "class Creature:\n",
    "    def breathe(self):\n",
    "        print(\"This function is in Creature class.\")\n",
    "\n",
    "class Mammal(Creature):\n",
    "    def walk(self):\n",
    "        print(\"This function is in Mammal class.\")\n",
    "\n",
    "class Human(Mammal):\n",
    "    def speak(self):\n",
    "        print(\"This function is in Human class.\")\n",
    "\n",
    "person = Human()\n",
    "person.breathe() # Output: This function is in Creature class.\n",
    "person.walk()    # Output: This function is in Mammal class.\n",
    "person.speak()   # Output: This function is in Human class.\n",
    "\n",
    "# Hierarchical Inheritance: When multiple child classes inherit from a single parent class.\n",
    "\n",
    "class Vehicle:\n",
    "    def drive(self):\n",
    "        print(\"This function is in Vehicle class.\")\n",
    "\n",
    "class Car(Vehicle):\n",
    "    def honk(self):\n",
    "        print(\"This function is in Car class.\")\n",
    "\n",
    "class Bike(Vehicle):\n",
    "    def pedal(self):\n",
    "        print(\"This function is in Bike class.\")\n",
    "\n",
    "car = Car()\n",
    "bike = Bike()\n",
    "car.drive() # Output: This function is in Vehicle class.\n",
    "car.honk()  # Output: This function is in Car class.\n",
    "bike.drive()# Output: This function is in Vehicle class.\n",
    "bike.pedal()# Output: This function is in Bike class.\n"
   ]
  },
  {
   "cell_type": "code",
   "execution_count": 4,
   "metadata": {},
   "outputs": [
    {
     "name": "stdout",
     "output_type": "stream",
     "text": [
      "The vehicle's engine starts.\n",
      "The car's engine roars to life.\n"
     ]
    }
   ],
   "source": [
    "# Method overriding: It is a feature in object-oriented programming where a subclass provides its own implementation of a method that is already defined in its superclass.\n",
    "\n",
    "class Vehicle:\n",
    "    def start_engine(self):\n",
    "        print(\"The vehicle's engine starts.\")\n",
    "\n",
    "class Car(Vehicle):\n",
    "    def start_engine(self):\n",
    "        print(\"The car's engine roars to life.\")\n",
    "\n",
    "# Create instances of the classes and call the overridden method\n",
    "vehicle = Vehicle()\n",
    "vehicle.start_engine()  # Output: The vehicle's engine starts.\n",
    "\n",
    "car = Car()\n",
    "car.start_engine()  # Output: The car's engine roars to life.\n"
   ]
  },
  {
   "cell_type": "code",
   "execution_count": 5,
   "metadata": {},
   "outputs": [
    {
     "name": "stdout",
     "output_type": "stream",
     "text": [
      "Buddy makes a sound\n",
      "Buddy is a Golden Retriever and barks\n"
     ]
    }
   ],
   "source": [
    "## The super() function in Python is used to call a method in a parent class from a child class. It allows the child class to inherit and extend the functionality of the parent class.\n",
    "class Animal:\n",
    "    def __init__(self, name):\n",
    "        self.name = name\n",
    "\n",
    "    def sound(self):\n",
    "        print(f\"{self.name} makes a sound\")\n",
    "\n",
    "class Dog(Animal):\n",
    "    def __init__(self, name, breed):\n",
    "        super().__init__(name)  # Call Animal's __init__ method\n",
    "        self.breed = breed\n",
    "\n",
    "    def sound(self):\n",
    "        super().sound()  # Call Animal's sound method\n",
    "        print(f\"{self.name} is a {self.breed} and barks\")\n",
    "\n",
    "# Create an instance of the Dog class\n",
    "dog_obj = Dog(\"Buddy\", \"Golden Retriever\")\n",
    "dog_obj.sound()\n"
   ]
  }
 ],
 "metadata": {
  "kernelspec": {
   "display_name": "Python 3",
   "language": "python",
   "name": "python3"
  },
  "language_info": {
   "codemirror_mode": {
    "name": "ipython",
    "version": 3
   },
   "file_extension": ".py",
   "mimetype": "text/x-python",
   "name": "python",
   "nbconvert_exporter": "python",
   "pygments_lexer": "ipython3",
   "version": "3.11.4"
  }
 },
 "nbformat": 4,
 "nbformat_minor": 2
}
