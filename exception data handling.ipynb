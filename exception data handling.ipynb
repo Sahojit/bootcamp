{
 "cells": [
  {
   "cell_type": "code",
   "execution_count": 1,
   "metadata": {},
   "outputs": [
    {
     "name": "stdout",
     "output_type": "stream",
     "text": [
      "5.0\n",
      "Error: Division by zero is not allowed!\n",
      "None\n"
     ]
    }
   ],
   "source": [
    "# Basic of Exception Handling \n",
    "\n",
    "'''\n",
    "try:\n",
    "    # Code that might raise an exception\n",
    "    # ...\n",
    "except ExceptionType1:\n",
    "    # Code to handle ExceptionType1\n",
    "    # ...\n",
    "'''\n",
    "\n",
    "# Example \n",
    "def divide_numbers(a, b):\n",
    "    try:\n",
    "        result = a / b\n",
    "        return result\n",
    "    except ZeroDivisionError:\n",
    "        print(f\"Error: Division by zero is not allowed!\")\n",
    "        return None\n",
    "\n",
    "# Using the function\n",
    "numerator = 10\n",
    "denominator1 = 2\n",
    "denominator2 = 0\n",
    "\n",
    "print(divide_numbers(numerator, denominator1))  # Output: 5.0\n",
    "print(divide_numbers(numerator, denominator2))  # Output: Error: Division by zero is not allowed!\n"
   ]
  },
  {
   "cell_type": "code",
   "execution_count": 3,
   "metadata": {},
   "outputs": [
    {
     "name": "stdout",
     "output_type": "stream",
     "text": [
      "Error: Invalid value!\n"
     ]
    }
   ],
   "source": [
    "# Handling multiple exceptions \n",
    "\n",
    "'''\n",
    "try:\n",
    "    # Code that might raise an exception\n",
    "    # ...\n",
    "except (ExceptionType1, ExceptionType2):\n",
    "    # Code to handle ExceptionType1 and ExceptionType2\n",
    "    # ...\n",
    "except ExceptionType3:\n",
    "    # Code to handle ExceptionType3\n",
    "    # ...\n",
    "'''\n",
    "\n",
    "# Example \n",
    "try:\n",
    "    value = \"abc\"\n",
    "    number = int(value)  # This will raise a ValueError\n",
    "    print(number)\n",
    "\n",
    "except ZeroDivisionError:\n",
    "    print(\"Error: Cannot divide by zero!\")\n",
    "\n",
    "except ValueError:\n",
    "    print(\"Error: Invalid value!\")\n"
   ]
  },
  {
   "cell_type": "code",
   "execution_count": 4,
   "metadata": {},
   "outputs": [
    {
     "name": "stdout",
     "output_type": "stream",
     "text": [
      "Error: The file 'data.txt' does not exist.\n",
      "File handling operation completed.\n"
     ]
    }
   ],
   "source": [
    "# Using Else and final blocks \n",
    "\n",
    "# The Else Block \n",
    "\n",
    "'''\n",
    "try:\n",
    "    # Code that might raise an exception\n",
    "    # ...\n",
    "except ExceptionType:\n",
    "    # Code to handle the exception\n",
    "    # ...\n",
    "else:\n",
    "    # Code to be executed if no exceptions are raised\n",
    "    # ...\n",
    "'''\n",
    "\n",
    "# the final block\n",
    "\n",
    "'''\n",
    "try:\n",
    "    # Code that might raise an exception\n",
    "    # ...\n",
    "except ExceptionType:\n",
    "    # Code to handle the exception\n",
    "    # ...\n",
    "finally:\n",
    "    # Code to be executed regardless of exceptions\n",
    "    # ...\n",
    "'''\n",
    "\n",
    "# Example\n",
    "try:\n",
    "    with open(\"data.txt\", \"r\") as file:\n",
    "        data = file.read()\n",
    "        print(data)\n",
    "except FileNotFoundError:\n",
    "    print(\"Error: The file 'data.txt' does not exist.\")\n",
    "except IOError:\n",
    "    print(\"Error: An I/O error occurred while reading the file.\")\n",
    "else:\n",
    "    print(\"File read successfully.\")\n",
    "finally:\n",
    "    print(\"File handling operation completed.\")\n"
   ]
  },
  {
   "cell_type": "code",
   "execution_count": 6,
   "metadata": {},
   "outputs": [
    {
     "ename": "ValueError",
     "evalue": "could not convert string to float: 'abc'",
     "output_type": "error",
     "traceback": [
      "\u001b[1;31m---------------------------------------------------------------------------\u001b[0m",
      "\u001b[1;31mValueError\u001b[0m                                Traceback (most recent call last)",
      "Cell \u001b[1;32mIn[6], line 3\u001b[0m\n\u001b[0;32m      1\u001b[0m \u001b[38;5;66;03m# ValueError: Raised when a function receives an argument of the correct type but an inappropriate value.\u001b[39;00m\n\u001b[1;32m----> 3\u001b[0m \u001b[38;5;28mfloat\u001b[39m(\u001b[38;5;124m'\u001b[39m\u001b[38;5;124mabc\u001b[39m\u001b[38;5;124m'\u001b[39m)  \u001b[38;5;66;03m# Raises ValueError: could not convert string to float: 'abc'\u001b[39;00m\n\u001b[0;32m      5\u001b[0m \u001b[38;5;66;03m# TypeError: Raised when an operation or function is attempted that is invalid for the specified data type.\u001b[39;00m\n\u001b[0;32m      7\u001b[0m \u001b[38;5;124m'\u001b[39m\u001b[38;5;124mabc\u001b[39m\u001b[38;5;124m'\u001b[39m \u001b[38;5;241m+\u001b[39m \u001b[38;5;241m123\u001b[39m  \u001b[38;5;66;03m# Raises TypeError: can only concatenate str (not \"int\") to str\u001b[39;00m\n",
      "\u001b[1;31mValueError\u001b[0m: could not convert string to float: 'abc'"
     ]
    }
   ],
   "source": [
    "# ValueError: Raised when a function receives an argument of the correct type but an inappropriate value.\n",
    "\n",
    "float('abc')  # Raises ValueError: could not convert string to float: 'abc'\n",
    "\n",
    "# TypeError: Raised when an operation or function is attempted that is invalid for the specified data type.\n",
    "\n",
    "'abc' + 123  # Raises TypeError: can only concatenate str (not \"int\") to str\n",
    "\n",
    "# ZeroDivisionError: Raised when division or modulo by zero takes place for all numeric types.\n",
    "\n",
    "result = 10 // 0  # Raises ZeroDivisionError: integer division or modulo by zero\n",
    "\n",
    "# IndexError: Raised when a sequence subscript is out of range.\n",
    "\n",
    "lst = ['a', 'b', 'c']\n",
    "print(lst[5])  # Raises IndexError: list index out of range\n",
    "\n",
    "# KeyError: Raised when a dictionary key is not found in the dictionary.\n",
    "\n",
    "my_dict = {'name': 'Alice', 'age': 25}\n",
    "print(my_dict['address'])  # Raises KeyError: 'address'\n",
    "\n",
    "# FileNotFoundError: Raised when a file or directory is requested but doesn't exist.\n",
    "\n",
    "with open('missingfile.txt') as f:  # Raises FileNotFoundError: [Errno 2] No such file or directory: 'missingfile.txt'\n",
    "    content = f.read()\n",
    "\n",
    "# ImportError: Raised when an imported module does not exist or cannot be loaded.\n",
    "\n",
    "import fake_module  # Raises ImportError: No module named 'fake_module'\n",
    "\n",
    "# AttributeError: Raised when an attribute reference or assignment fails.\n",
    "\n",
    "string = \"hello\"\n",
    "string.append('!')  # Raises AttributeError: 'str' object has no attribute 'append'\n",
    "\n",
    "# NameError: Raised when an object could not be found in the current or global scope.\n",
    "\n",
    "print(not_defined_variable)  # Raises NameError: name 'not_defined_variable' is not defined\n"
   ]
  },
  {
   "cell_type": "code",
   "execution_count": 7,
   "metadata": {},
   "outputs": [
    {
     "name": "stdout",
     "output_type": "stream",
     "text": [
      "Error: Score cannot be greater than 100\n"
     ]
    }
   ],
   "source": [
    "# Custom Exception \n",
    "\n",
    "\"\"\"\n",
    "class CustomExceptionName(Exception):\n",
    "    '''Docstring describing the exception'''\n",
    "    pass\n",
    "\n",
    "try:\n",
    "    # Code that raises the custom exception\n",
    "except CustomExceptionName:\n",
    "    # Handle the custom exception\n",
    "\"\"\"\n",
    "\n",
    "#Example \n",
    "class InvalidScoreError(Exception):\n",
    "    \"\"\"Raised when the input score is invalid\"\"\"\n",
    "    pass\n",
    "\n",
    "def validate_score(score):\n",
    "    if score < 0:\n",
    "        raise InvalidScoreError(\"Score cannot be negative\")\n",
    "    elif score > 100:\n",
    "        raise InvalidScoreError(\"Score cannot be greater than 100\")\n",
    "    else:\n",
    "        print(\"Valid score\")\n",
    "\n",
    "try:\n",
    "    validate_score(105)\n",
    "except InvalidScoreError as e:\n",
    "    print(f\"Error: {e}\")\n"
   ]
  },
  {
   "cell_type": "code",
   "execution_count": 8,
   "metadata": {},
   "outputs": [
    {
     "name": "stdout",
     "output_type": "stream",
     "text": [
      "A ValueError occurred: could not convert string to int\n"
     ]
    }
   ],
   "source": [
    "# Using except with specific exception\n",
    "\n",
    "\"\"\"\n",
    "try:\n",
    "    # Code that might raise an exception\n",
    "    # ...\n",
    "except SpecificExceptionType:\n",
    "    # Handle the SpecificExceptionType\n",
    "    # ...\n",
    "\"\"\"\n",
    "\n",
    "# Example\n",
    "\n",
    "try:\n",
    "    number = int('not_a_number')  # This will raise a ValueError\n",
    "except ValueError:\n",
    "    print(\"A ValueError occurred: could not convert string to int\")\n"
   ]
  },
  {
   "cell_type": "code",
   "execution_count": 9,
   "metadata": {},
   "outputs": [
    {
     "name": "stdout",
     "output_type": "stream",
     "text": [
      "Error: Insufficient funds.\n"
     ]
    }
   ],
   "source": [
    "# Raising Exception\n",
    "\n",
    "def withdraw_amount(balance, amount):\n",
    "    if amount > balance:\n",
    "        raise ValueError(\"Insufficient funds.\")\n",
    "    return balance - amount\n",
    "\n",
    "try:\n",
    "    new_balance = withdraw_amount(100, 150)\n",
    "    print(new_balance)\n",
    "except ValueError as e:\n",
    "    print(f\"Error: {e}\")\n"
   ]
  },
  {
   "cell_type": "code",
   "execution_count": 10,
   "metadata": {},
   "outputs": [
    {
     "ename": "ModuleNotFoundError",
     "evalue": "No module named 'module'",
     "output_type": "error",
     "traceback": [
      "\u001b[1;31m---------------------------------------------------------------------------\u001b[0m",
      "\u001b[1;31mModuleNotFoundError\u001b[0m                       Traceback (most recent call last)",
      "Cell \u001b[1;32mIn[10], line 24\u001b[0m\n\u001b[0;32m     20\u001b[0m         \u001b[38;5;28mprint\u001b[39m(\u001b[38;5;124mf\u001b[39m\u001b[38;5;124m\"\u001b[39m\u001b[38;5;124mError occurred in module: \u001b[39m\u001b[38;5;132;01m{\u001b[39;00me\u001b[38;5;132;01m}\u001b[39;00m\u001b[38;5;124m\"\u001b[39m)\n\u001b[0;32m     22\u001b[0m \u001b[38;5;66;03m# Script Level: Handling exceptions at the script level.\u001b[39;00m\n\u001b[0;32m     23\u001b[0m \u001b[38;5;66;03m# main.py\u001b[39;00m\n\u001b[1;32m---> 24\u001b[0m \u001b[38;5;28;01mimport\u001b[39;00m \u001b[38;5;21;01mmodule\u001b[39;00m\n\u001b[0;32m     26\u001b[0m \u001b[38;5;28;01mdef\u001b[39;00m \u001b[38;5;21mmain\u001b[39m():\n\u001b[0;32m     27\u001b[0m     \u001b[38;5;28;01mtry\u001b[39;00m:\n",
      "\u001b[1;31mModuleNotFoundError\u001b[0m: No module named 'module'"
     ]
    }
   ],
   "source": [
    "# Handling exceptions at different levels\n",
    "\n",
    "# Function Level: Handling exceptions within a specific function.\n",
    "def calculate_average(numbers):\n",
    "    try:\n",
    "        average = sum(numbers) / len(numbers)\n",
    "    except ZeroDivisionError:\n",
    "        print(\"Error: Cannot calculate average of an empty list.\")\n",
    "    except TypeError:\n",
    "        print(\"Error: List contains non-numeric values.\")\n",
    "    else:\n",
    "        return average\n",
    "\n",
    "# Module Level: Handling exceptions within a module.\n",
    "# module.py\n",
    "def process_data(data):\n",
    "    try:\n",
    "        result = calculate_average(data)\n",
    "    except Exception as e:\n",
    "        print(f\"Error occurred in module: {e}\")\n",
    "\n",
    "# Script Level: Handling exceptions at the script level.\n",
    "# main.py\n",
    "import module\n",
    "\n",
    "def main():\n",
    "    try:\n",
    "        data = [1, 2, 'three']  # Intentionally including a non-numeric value\n",
    "        module.process_data(data)\n",
    "    except Exception as e:\n",
    "        print(f\"Error occurred in script: {e}\")\n",
    "\n",
    "if __name__ == \"__main__\":\n",
    "    main()\n",
    "\n",
    "# Application Level: Handling exceptions at the application level.\n",
    "# app.py\n",
    "def handle_exception(exc_type, exc_value, exc_traceback):\n",
    "    print(f\"An error occurred: {exc_value}\")\n",
    "    # Log the exception, send an email, or take any other action\n",
    "\n",
    "import sys\n",
    "sys.excepthook = handle_exception\n",
    "\n",
    "# Code that may raise exceptions\n",
    "data = [1, 2, 'three']\n",
    "calculate_average(data)\n"
   ]
  },
  {
   "cell_type": "code",
   "execution_count": null,
   "metadata": {},
   "outputs": [],
   "source": []
  }
 ],
 "metadata": {
  "kernelspec": {
   "display_name": "base",
   "language": "python",
   "name": "python3"
  },
  "language_info": {
   "codemirror_mode": {
    "name": "ipython",
    "version": 3
   },
   "file_extension": ".py",
   "mimetype": "text/x-python",
   "name": "python",
   "nbconvert_exporter": "python",
   "pygments_lexer": "ipython3",
   "version": "3.11.4"
  }
 },
 "nbformat": 4,
 "nbformat_minor": 2
}
