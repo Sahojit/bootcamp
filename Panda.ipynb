{
 "cells": [
  {
   "cell_type": "code",
   "execution_count": null,
   "metadata": {},
   "outputs": [],
   "source": [
    "#Pandas is a powerful and open-source Python library. \n",
    "#The Pandas library is used for data manipulation and analysis. \n",
    "#Pandas consist of data structures and functions to perform efficient operations on data.\n",
    "\n",
    "#What is Pandas Libray in Python?\n",
    "\n",
    "#Pandas is a powerful and versatile library that simplifies the tasks of data manipulation in Python.\n",
    "#Pandas is well-suited for working with tabular data, such as spreadsheets or SQL tables.\n",
    "#The Pandas library is an essential tool for data analysts, scientists, and engineers working with structured data in Python.\n",
    "\n",
    "\n",
    "#Getting Started with Pandas\n",
    "\n",
    "#Importing Pandas\n",
    "\n",
    "import pandas as pd\n"
   ]
  },
  {
   "cell_type": "code",
   "execution_count": null,
   "metadata": {},
   "outputs": [],
   "source": [
    "#Data Structures in Pandas Library\n",
    "#Pandas generally provide two data structures for manipulating data. They are:\n",
    "#Series\n",
    "#DataFrame\n",
    "\n",
    "\n",
    "\n"
   ]
  },
  {
   "cell_type": "code",
   "execution_count": 1,
   "metadata": {},
   "outputs": [
    {
     "name": "stdout",
     "output_type": "stream",
     "text": [
      "Pandas Series:  Series([], dtype: float64)\n",
      "Pandas Series:\n",
      " 0    g\n",
      "1    e\n",
      "2    e\n",
      "3    k\n",
      "4    s\n",
      "dtype: object\n"
     ]
    },
    {
     "name": "stderr",
     "output_type": "stream",
     "text": [
      "C:\\Users\\HP\\AppData\\Local\\Temp\\ipykernel_14072\\3564936009.py:21: FutureWarning: The default dtype for empty Series will be 'object' instead of 'float64' in a future version. Specify a dtype explicitly to silence this warning.\n",
      "  ser = pd.Series()\n"
     ]
    }
   ],
   "source": [
    "#Pandas Series\n",
    "#A Pandas Series is a one-dimensional labeled array capable of holding data of any type (integer, string, float, Python objects, etc.). The axis labels are collectively called indexes.\n",
    "\n",
    "#The Pandas Series is nothing but a column in an Excel sheet. Labels need not be unique but must be of a hashable type.\n",
    "\n",
    "#The object supports both integer and label-based indexing and provides a host of methods for performing operations involving the index.\n",
    "\n",
    "\n",
    "#Pandas Series\n",
    "\n",
    "#Creating a Series\n",
    "#Pandas Series is created by loading the datasets from existing storage (which can be a SQL database, a CSV file, or an Excel file).\n",
    "#Pandas Series can be created from lists, dictionaries, scalar values, etc.\n",
    "\n",
    "# Creating a series using the Pandas Library.\n",
    "\n",
    "import pandas as pd \n",
    "import numpy as np\n",
    "\n",
    "# Creating empty series \n",
    "ser = pd.Series() \n",
    "print(\"Pandas Series: \", ser) \n",
    "\n",
    "# simple array \n",
    "data = np.array(['g', 'e', 'e', 'k', 's']) \n",
    "  \n",
    "ser = pd.Series(data) \n",
    "print(\"Pandas Series:\\n\", ser)\n"
   ]
  },
  {
   "cell_type": "code",
   "execution_count": 4,
   "metadata": {},
   "outputs": [
    {
     "name": "stdout",
     "output_type": "stream",
     "text": [
      "    Name\n",
      "0   Nick\n",
      "1  Krish\n",
      "2    Tom\n",
      "3   Jack\n"
     ]
    }
   ],
   "source": [
    "#Pandas DataFrame is two-dimensional size-mutable, potentially heterogeneous tabular data structure with labeled axes (rows and columns). A Data frame is a two-dimensional data structure, i.e., data is aligned in a tabular fashion in rows and columns. Pandas DataFrame consists of three principal components, the data, rows, and columns.\n",
    "#creating a dataframe using list\n",
    "\n",
    "import pandas as pd\n",
    "\n",
    "# List of names\n",
    "names = ['Nick', 'Krish', 'Tom', 'Jack']\n",
    "\n",
    "# Creating DataFrame\n",
    "df = pd.DataFrame(names, columns=['Name'])\n",
    "\n",
    "# Display the DataFrame\n",
    "print(df)\n",
    "\n"
   ]
  },
  {
   "cell_type": "code",
   "execution_count": 3,
   "metadata": {},
   "outputs": [
    {
     "name": "stdout",
     "output_type": "stream",
     "text": [
      "    Name  Age\n",
      "0    Tom   20\n",
      "1   nick   21\n",
      "2  krish   19\n",
      "3   jack   18\n"
     ]
    }
   ],
   "source": [
    "#creating a dataframe using dictionary\n",
    "\n",
    "# Python code demonstrate creating \n",
    "# DataFrame from dict narray / lists \n",
    "# By default addresses.\n",
    " \n",
    "import pandas as pd\n",
    " \n",
    "# intialise data of lists.\n",
    "data = {'Name':['Tom', 'nick', 'krish', 'jack'],\n",
    "        'Age':[20, 21, 19, 18]}\n",
    " \n",
    "# Create DataFrame\n",
    "df = pd.DataFrame(data)\n",
    " \n",
    "# Print the output.\n",
    "print(df)\n"
   ]
  },
  {
   "cell_type": "code",
   "execution_count": 6,
   "metadata": {},
   "outputs": [],
   "source": [
    "#Data inspection is a crucial step in the data analysis process. It involves examining the data to understand its structure, detect any anomalies, and prepare it for further analysis. In Python, the Pandas library provides a wide range of functions for data inspection\n",
    "# some of the key functions and their uses:\n",
    "#df.head(): Displays the first few rows of the DataFrame\n",
    "#df.info(): Provides a concise summary of the DataFrame, including the number of non-null entries and data types for each column.\n",
    "#df.describe(): Generates descriptive statistics for numerical columns, including count, mean, standard deviation, min, max, and quartiles.\n",
    "#df.isnull(): Returns a DataFrame of the same shape as the original, indicating where values are null.\n",
    "#df.columns: Lists the column names\n",
    "#df.dtypes: Returns the data type of each column\n",
    "\n",
    "\n"
   ]
  },
  {
   "cell_type": "code",
   "execution_count": 9,
   "metadata": {},
   "outputs": [
    {
     "name": "stdout",
     "output_type": "stream",
     "text": [
      "First few rows of the DataFrame:\n",
      "    Name  Age         City  Salary\n",
      "0    Tom   25     New York   70000\n",
      "1   Nick   30  Los Angeles   80000\n",
      "2   Jack   22      Chicago   60000\n",
      "3  Krish   28      Houston   75000\n",
      "\n",
      "Summary of the DataFrame:\n",
      "<class 'pandas.core.frame.DataFrame'>\n",
      "RangeIndex: 4 entries, 0 to 3\n",
      "Data columns (total 4 columns):\n",
      " #   Column  Non-Null Count  Dtype \n",
      "---  ------  --------------  ----- \n",
      " 0   Name    4 non-null      object\n",
      " 1   Age     4 non-null      int64 \n",
      " 2   City    4 non-null      object\n",
      " 3   Salary  4 non-null      int64 \n",
      "dtypes: int64(2), object(2)\n",
      "memory usage: 260.0+ bytes\n"
     ]
    }
   ],
   "source": [
    "#example\n",
    "\n",
    "import pandas as pd\n",
    "\n",
    "# Sample data\n",
    "data = {\n",
    "    'Name': ['Tom', 'Nick', 'Jack', 'Krish'],\n",
    "    'Age': [25, 30, 22, 28],\n",
    "    'City': ['New York', 'Los Angeles', 'Chicago', 'Houston'],\n",
    "    'Salary': [70000, 80000, 60000, 75000]\n",
    "}\n",
    "\n",
    "# Creating DataFrame\n",
    "df = pd.DataFrame(data)\n",
    "\n",
    "# View the first few rows of the DataFrame\n",
    "print(\"First few rows of the DataFrame:\")\n",
    "print(df.head())\n",
    "\n",
    "# Get a summary of the DataFrame\n",
    "print(\"\\nSummary of the DataFrame:\")\n",
    "df.info()\n",
    "\n"
   ]
  },
  {
   "cell_type": "code",
   "execution_count": 10,
   "metadata": {},
   "outputs": [
    {
     "name": "stdout",
     "output_type": "stream",
     "text": [
      "\n",
      "Descriptive statistics of the DataFrame:\n",
      "         Age        Salary\n",
      "count   4.00      4.000000\n",
      "mean   26.25  71250.000000\n",
      "std     3.50   8539.125638\n",
      "min    22.00  60000.000000\n",
      "25%    24.25  67500.000000\n",
      "50%    26.50  72500.000000\n",
      "75%    28.50  76250.000000\n",
      "max    30.00  80000.000000\n",
      "\n",
      "Missing values in the DataFrame:\n",
      "Name      0\n",
      "Age       0\n",
      "City      0\n",
      "Salary    0\n",
      "dtype: int64\n"
     ]
    }
   ],
   "source": [
    "# Get descriptive statistics\n",
    "print(\"\\nDescriptive statistics of the DataFrame:\")\n",
    "print(df.describe())\n",
    "\n",
    "# Check for missing values\n",
    "print(\"\\nMissing values in the DataFrame:\")\n",
    "print(df.isnull().sum())\n",
    "\n"
   ]
  },
  {
   "cell_type": "code",
   "execution_count": 11,
   "metadata": {},
   "outputs": [
    {
     "name": "stdout",
     "output_type": "stream",
     "text": [
      "\n",
      "Columns in the DataFrame:\n",
      "Index(['Name', 'Age', 'City', 'Salary'], dtype='object')\n",
      "\n",
      "Data types of each column in the DataFrame:\n",
      "Name      object\n",
      "Age        int64\n",
      "City      object\n",
      "Salary     int64\n",
      "dtype: object\n"
     ]
    }
   ],
   "source": [
    "# Get the list of columns\n",
    "print(\"\\nColumns in the DataFrame:\")\n",
    "print(df.columns)\n",
    "\n",
    "# Get the data types of each column\n",
    "print(\"\\nData types of each column in the DataFrame:\")\n",
    "print(df.dtypes)"
   ]
  },
  {
   "cell_type": "code",
   "execution_count": 12,
   "metadata": {},
   "outputs": [
    {
     "name": "stdout",
     "output_type": "stream",
     "text": [
      "blue     3\n",
      "red      2\n",
      "green    1\n",
      "Name: color, dtype: int64\n"
     ]
    }
   ],
   "source": [
    "#Data exploration is a critical step in the data analysis process, allowing you to understand the underlying patterns, structures, and relationships within your dataset. Pandas, a powerful Python library for data manipulation and analysis, provides a variety of functions to facilitate this process. \n",
    "#hese functions, df[column].value_counts(), df[column].unique(), and df.corr() are particularly useful for gaining insights into our data\n",
    "\n",
    "#1. df[column].value_counts():The value_counts() function in pandas is used to count the frequency of unique values in a specified column. This is particularly useful for categorical data, where you want to understand the distribution of different categories.\n",
    "\n",
    "import pandas as pd\n",
    "\n",
    "data = {'color': ['red', 'blue', 'red', 'green', 'blue', 'blue']}\n",
    "df = pd.DataFrame(data)\n",
    "\n",
    "print(df['color'].value_counts())\n"
   ]
  },
  {
   "cell_type": "code",
   "execution_count": 13,
   "metadata": {},
   "outputs": [
    {
     "name": "stdout",
     "output_type": "stream",
     "text": [
      "['red' 'blue' 'green']\n"
     ]
    }
   ],
   "source": [
    "#. df[column].unique():The unique() function returns an array of unique values in a specified column. This function is useful for identifying all distinct values present in a column, which is especially important for understanding the range of categorical variables or for detecting any anomalies.\n",
    "\n",
    "import pandas as pd\n",
    "\n",
    "data = {'color': ['red', 'blue', 'red', 'green', 'blue', 'blue']}\n",
    "df = pd.DataFrame(data)\n",
    "\n",
    "print(df['color'].unique())\n",
    "\n"
   ]
  },
  {
   "cell_type": "code",
   "execution_count": 14,
   "metadata": {},
   "outputs": [
    {
     "name": "stdout",
     "output_type": "stream",
     "text": [
      "     A    B    C\n",
      "A  1.0 -1.0  1.0\n",
      "B -1.0  1.0 -1.0\n",
      "C  1.0 -1.0  1.0\n"
     ]
    }
   ],
   "source": [
    "#3. df.corr():The corr() function computes the pairwise correlation of columns in the DataFrame, excluding NA/null values. This function is valuable for understanding the relationships between different numerical variables in your dataset. Correlation coefficients range from -1 to 1, where 1 indicates a perfect positive correlation, -1 indicates a perfect negative correlation, and 0 indicates no correlation\n",
    "import pandas as pd\n",
    "data = {'A': [1, 2, 3, 4, 5],\n",
    "        'B': [5, 4, 3, 2, 1],\n",
    "        'C': [2, 3, 4, 5, 6]}\n",
    "df = pd.DataFrame(data)\n",
    "\n",
    "print(df.corr())\n"
   ]
  },
  {
   "cell_type": "code",
   "execution_count": 16,
   "metadata": {},
   "outputs": [
    {
     "name": "stdout",
     "output_type": "stream",
     "text": [
      "DataFrame:\n",
      "       Name  Age         City  Salary\n",
      "0    Alice   24     New York   70000\n",
      "1      Bob   27  Los Angeles   80000\n",
      "2  Charlie   22      Chicago   60000\n",
      "3    David   32      Houston   90000\n",
      "4      Eve   29      Phoenix   75000\n",
      "\n",
      "Second row:\n",
      " Name              Bob\n",
      "Age                27\n",
      "City      Los Angeles\n",
      "Salary          80000\n",
      "Name: 1, dtype: object\n"
     ]
    }
   ],
   "source": [
    "#iloc is a powerful tool in pandas, a popular data manipulation library in Python, used for integer-location-based indexing and slicing of data. It stands for \"integer location\" and allows you to access data by specifying row and column positions using integer indices.\n",
    "import pandas as pd\n",
    "\n",
    "# Sample data\n",
    "data = {\n",
    "    'Name': ['Alice', 'Bob', 'Charlie', 'David', 'Eve'],\n",
    "    'Age': [24, 27, 22, 32, 29],\n",
    "    'City': ['New York', 'Los Angeles', 'Chicago', 'Houston', 'Phoenix'],\n",
    "    'Salary': [70000, 80000, 60000, 90000, 75000]\n",
    "}\n",
    "\n",
    "# Creating the DataFrame\n",
    "df = pd.DataFrame(data)\n",
    "\n",
    "# Displaying the DataFrame\n",
    "print(\"DataFrame:\\n\", df)\n",
    "\n",
    "# Accessing the second row\n",
    "second_row = df.iloc[1]\n",
    "print(\"\\nSecond row:\\n\", second_row)\n",
    "\n"
   ]
  },
  {
   "cell_type": "code",
   "execution_count": 17,
   "metadata": {},
   "outputs": [
    {
     "name": "stdout",
     "output_type": "stream",
     "text": [
      "\n",
      "Third column:\n",
      " 0       New York\n",
      "1    Los Angeles\n",
      "2        Chicago\n",
      "3        Houston\n",
      "4        Phoenix\n",
      "Name: City, dtype: object\n",
      "\n",
      "Element at third row, fourth column: 60000\n",
      "\n",
      "First three rows and first two columns:\n",
      "       Name  Age\n",
      "0    Alice   24\n",
      "1      Bob   27\n",
      "2  Charlie   22\n"
     ]
    }
   ],
   "source": [
    "# Accessing the third column\n",
    "third_column = df.iloc[:, 2]\n",
    "print(\"\\nThird column:\\n\", third_column)\n",
    "\n",
    "# Accessing the element in the third row and fourth column\n",
    "specific_element = df.iloc[2, 3]\n",
    "print(\"\\nElement at third row, fourth column:\", specific_element)\n",
    "\n",
    "# Accessing the first three rows and first two columns\n",
    "subset = df.iloc[0:3, 0:2]\n",
    "print(\"\\nFirst three rows and first two columns:\\n\", subset)\n"
   ]
  },
  {
   "cell_type": "code",
   "execution_count": 18,
   "metadata": {},
   "outputs": [
    {
     "name": "stdout",
     "output_type": "stream",
     "text": [
      "DataFrame:\n",
      "       Name  Age         City  Salary\n",
      "0    Alice   24     New York   70000\n",
      "1      Bob   27  Los Angeles   80000\n",
      "2  Charlie   22      Chicago   60000\n",
      "3    David   32      Houston   90000\n",
      "4      Eve   29      Phoenix   75000\n"
     ]
    }
   ],
   "source": [
    "#Boolean indexing is a powerful feature in pandas that allows you to filter data based on conditions. It uses boolean expressions to select rows or columns that meet specific criteria. This makes it easy to filter data frames based on multiple conditions.\n",
    "\n",
    "import pandas as pd\n",
    "\n",
    "# Sample data\n",
    "data = {\n",
    "    'Name': ['Alice', 'Bob', 'Charlie', 'David', 'Eve'],\n",
    "    'Age': [24, 27, 22, 32, 29],\n",
    "    'City': ['New York', 'Los Angeles', 'Chicago', 'Houston', 'Phoenix'],\n",
    "    'Salary': [70000, 80000, 60000, 90000, 75000]\n",
    "}\n",
    "\n",
    "# Creating the DataFrame\n",
    "df = pd.DataFrame(data)\n",
    "\n",
    "# Displaying the DataFrame\n",
    "print(\"DataFrame:\\n\", df)\n"
   ]
  },
  {
   "cell_type": "code",
   "execution_count": 19,
   "metadata": {},
   "outputs": [
    {
     "name": "stdout",
     "output_type": "stream",
     "text": [
      "DataFrame:\n",
      "       Name  Age         City  Salary\n",
      "0    Alice   24     New York   70000\n",
      "1      Bob   27  Los Angeles   80000\n",
      "2  Charlie   22      Chicago   60000\n",
      "3    David   32      Houston   90000\n",
      "4      Eve   29      Phoenix   75000\n",
      "Filtered DataFrame (Age > 25):\n",
      "     Name  Age         City  Salary\n",
      "1    Bob   27  Los Angeles   80000\n",
      "3  David   32      Houston   90000\n",
      "4    Eve   29      Phoenix   75000\n"
     ]
    }
   ],
   "source": [
    "#Boolean Indexing to Filter Data\n",
    "# Filter by Age\n",
    "# Boolean indexing\n",
    "\n",
    "import pandas as pd\n",
    "\n",
    "# Sample data\n",
    "data = {\n",
    "    'Name': ['Alice', 'Bob', 'Charlie', 'David', 'Eve'],\n",
    "    'Age': [24, 27, 22, 32, 29],\n",
    "    'City': ['New York', 'Los Angeles', 'Chicago', 'Houston', 'Phoenix'],\n",
    "    'Salary': [70000, 80000, 60000, 90000, 75000]\n",
    "}\n",
    "\n",
    "# Creating the DataFrame\n",
    "df = pd.DataFrame(data)\n",
    "\n",
    "# Displaying the DataFrame\n",
    "print(\"DataFrame:\\n\", df)\n",
    "\n",
    "age_filter = df['Age'] > 25\n",
    "\n",
    "# Apply the filter to the DataFrame\n",
    "filtered_df = df[age_filter]\n",
    "\n",
    "print(\"Filtered DataFrame (Age > 25):\\n\", filtered_df)\n"
   ]
  },
  {
   "cell_type": "code",
   "execution_count": null,
   "metadata": {},
   "outputs": [],
   "source": []
  }
 ],
 "metadata": {
  "kernelspec": {
   "display_name": "base",
   "language": "python",
   "name": "python3"
  },
  "language_info": {
   "codemirror_mode": {
    "name": "ipython",
    "version": 3
   },
   "file_extension": ".py",
   "mimetype": "text/x-python",
   "name": "python",
   "nbconvert_exporter": "python",
   "pygments_lexer": "ipython3",
   "version": "3.11.4"
  }
 },
 "nbformat": 4,
 "nbformat_minor": 2
}
