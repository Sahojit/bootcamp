{
 "cells": [
  {
   "cell_type": "code",
   "execution_count": 1,
   "metadata": {},
   "outputs": [
    {
     "name": "stdout",
     "output_type": "stream",
     "text": [
      "Set created using curly braces: {'banana', 'apple', 'cherry'}\n",
      "Set created using set constructor: {'elderberry', 'cherry', 'date'}\n"
     ]
    }
   ],
   "source": [
    "# Creating sets \n",
    "\n",
    "# Using curly braces\n",
    "fruit1_set = {'apple', 'banana', 'cherry'}\n",
    "\n",
    "# Using set() constructor\n",
    "fruit2_set = set(['cherry', 'date', 'elderberry'])\n",
    "\n",
    "# Print\n",
    "print(\"Set created using curly braces:\", fruit1_set)\n",
    "print(\"Set created using set constructor:\", fruit2_set)\n"
   ]
  },
  {
   "cell_type": "code",
   "execution_count": 2,
   "metadata": {},
   "outputs": [
    {
     "name": "stdout",
     "output_type": "stream",
     "text": [
      "Union: {20, 40, 10, 30}\n",
      "Intersection: {30}\n",
      "Difference: {10, 20}\n",
      "Symmetric Difference: {40, 10, 50, 20}\n"
     ]
    }
   ],
   "source": [
    "# Set operations\n",
    "\n",
    "# Union (|):\n",
    "set_a = {10, 20, 30}\n",
    "set_b = {20, 30, 40}\n",
    "union_result = set_a | set_b  # Output: {10, 20, 30, 40}\n",
    "print(\"Union:\", union_result)\n",
    "\n",
    "# Intersection (&):\n",
    "set_x = {10, 20, 30}\n",
    "set_y = {30, 40, 50}\n",
    "intersection_result = set_x & set_y  # Output: {30}\n",
    "print(\"Intersection:\", intersection_result)\n",
    "\n",
    "# Difference (-):\n",
    "set_p = {10, 20, 30}\n",
    "set_q = {30, 40, 50}\n",
    "difference_result = set_p - set_q  # Output: {10, 20}\n",
    "print(\"Difference:\", difference_result)\n",
    "\n",
    "# Symmetric Difference (^):\n",
    "set_m = {10, 20, 30}\n",
    "set_n = {30, 40, 50}\n",
    "symmetric_difference_result = set_m ^ set_n  # Output: {10, 20, 40, 50}\n",
    "print(\"Symmetric Difference:\", symmetric_difference_result)\n"
   ]
  },
  {
   "cell_type": "code",
   "execution_count": 3,
   "metadata": {},
   "outputs": [
    {
     "name": "stdout",
     "output_type": "stream",
     "text": [
      "Before add: {1, 2, 3}\n",
      "After add: {1, 2, 3, 4}\n",
      "Before remove: {5, 6, 7}\n",
      "After remove: {5, 7}\n",
      "Before discard: {8, 9, 10}\n",
      "After discard: {9, 10}\n",
      "Before pop: {11, 12, 13}\n",
      "After pop: 11\n",
      "Before clear: {16, 14, 15}\n",
      "After clear: set()\n",
      "Before update: {17, 18, 19}\n",
      "After update: {17, 18, 19, 20, 21}\n",
      "True\n",
      "True\n",
      "True\n"
     ]
    }
   ],
   "source": [
    "# Set Methods in Python\n",
    "\n",
    "# add(element):\n",
    "my_set = {1, 2, 3}\n",
    "print(\"Before add:\", my_set)\n",
    "my_set.add(4)\n",
    "print(\"After add:\", my_set)  # Output: {1, 2, 3, 4}\n",
    "\n",
    "# remove(element)\n",
    "my_set = {5, 6, 7}\n",
    "print(\"Before remove:\", my_set)\n",
    "my_set.remove(6)\n",
    "print(\"After remove:\", my_set)  # Output: {5, 7}\n",
    "\n",
    "# discard(element)\n",
    "my_set = {8, 9, 10}\n",
    "print(\"Before discard:\", my_set)\n",
    "my_set.discard(8)\n",
    "print(\"After discard:\", my_set)  # Output: {9, 10}\n",
    "\n",
    "# pop(element)\n",
    "my_set = {11, 12, 13}\n",
    "print(\"Before pop:\", my_set)\n",
    "removed_element = my_set.pop()\n",
    "print(\"After pop:\", removed_element)  # Output: 11\n",
    "\n",
    "# clear(element)\n",
    "my_set = {14, 15, 16}\n",
    "print(\"Before clear:\", my_set)\n",
    "my_set.clear()\n",
    "print(\"After clear:\", my_set)  # Output: set()\n",
    "\n",
    "# update(iterable)\n",
    "my_set = {17, 18, 19}\n",
    "print(\"Before update:\", my_set)\n",
    "my_set.update([20, 21])\n",
    "print(\"After update:\", my_set)  # Output: {17, 18, 19, 20, 21}\n",
    "\n",
    "# issubset(other_set):\n",
    "set1 = {22, 23}\n",
    "set2 = {22, 23, 24, 25}\n",
    "result = set1.issubset(set2)\n",
    "print(result)  # Output: True\n",
    "\n",
    "# issuperset(other_set):\n",
    "set3 = {26, 27, 28, 29}\n",
    "set4 = {26, 27}\n",
    "result = set3.issuperset(set4)\n",
    "print(result)  # Output: True\n",
    "\n",
    "# isdisjoint(other_set):\n",
    "set5 = {30, 31, 32}\n",
    "set6 = {33, 34, 35}\n",
    "result = set5.isdisjoint(set6)\n",
    "print(result)  # Output: True\n"
   ]
  },
  {
   "cell_type": "code",
   "execution_count": 4,
   "metadata": {},
   "outputs": [
    {
     "name": "stdout",
     "output_type": "stream",
     "text": [
      "True\n",
      "False\n"
     ]
    }
   ],
   "source": [
    "my_set = {10, 20, 30, 40, 50}\n",
    "\n",
    "# Check if an element is present in the set\n",
    "print(30 in my_set)  # Output: True\n",
    "print(60 in my_set)  # Output: False\n"
   ]
  },
  {
   "cell_type": "code",
   "execution_count": 5,
   "metadata": {},
   "outputs": [
    {
     "name": "stdout",
     "output_type": "stream",
     "text": [
      "{(20, 'x'), (10, 'x'), (20, 'y'), (10, 'y'), (20, 'z'), (10, 'z')}\n",
      "{frozenset({6, 7}), frozenset({7}), frozenset({5, 6}), frozenset({6}), frozenset({5, 6, 7}), frozenset(), frozenset({5, 7}), frozenset({5})}\n"
     ]
    }
   ],
   "source": [
    "#Advanced Set operations in python\n",
    "# Cartesian Product:\n",
    "set_a = {10, 20}\n",
    "set_b = {'x', 'y', 'z'}\n",
    "cartesian_result = {(item_x, item_y) for item_x in set_a for item_y in set_b}\n",
    "print(cartesian_result)\n",
    "\n",
    "# Power set:\n",
    "def power_set(input_set):\n",
    "    if len(input_set) == 0:\n",
    "        return {frozenset()}\n",
    "    element = input_set.pop()\n",
    "    subsets = power_set(input_set)\n",
    "    return subsets.union({subset.union({element}) for subset in subsets})\n",
    "\n",
    "new_set = {5, 6, 7}\n",
    "print(power_set(new_set))\n"
   ]
  },
  {
   "cell_type": "code",
   "execution_count": null,
   "metadata": {},
   "outputs": [],
   "source": []
  }
 ],
 "metadata": {
  "kernelspec": {
   "display_name": "base",
   "language": "python",
   "name": "python3"
  },
  "language_info": {
   "codemirror_mode": {
    "name": "ipython",
    "version": 3
   },
   "file_extension": ".py",
   "mimetype": "text/x-python",
   "name": "python",
   "nbconvert_exporter": "python",
   "pygments_lexer": "ipython3",
   "version": "3.11.4"
  }
 },
 "nbformat": 4,
 "nbformat_minor": 2
}
