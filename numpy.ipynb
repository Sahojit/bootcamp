{
 "cells": [
  {
   "cell_type": "code",
   "execution_count": null,
   "metadata": {},
   "outputs": [],
   "source": [
    "#NumPy stands for Numerical Python, is an open-source Python library that provides support for large, multi-dimensional arrays and matrices.\n"
   ]
  },
  {
   "cell_type": "code",
   "execution_count": null,
   "metadata": {},
   "outputs": [],
   "source": [
    "#Install Python NumPy:\n",
    "\n",
    "pip install numpy"
   ]
  },
  {
   "cell_type": "code",
   "execution_count": 7,
   "metadata": {},
   "outputs": [
    {
     "name": "stdout",
     "output_type": "stream",
     "text": [
      "(2, 4)\n",
      "(2, 2, 2)\n"
     ]
    }
   ],
   "source": [
    "#The shape of an array can be defined as the number of elements in each dimension. \n",
    "# Dimension is the number of indices or subscripts, that we require in order to specify an individual element of an array.\n",
    "\n",
    "import numpy as npy\n",
    "\n",
    "# creating a 2-d array\n",
    "arr1 = npy.array([[1, 3, 5, 7], [2, 4, 6, 8]])\n",
    "\n",
    "# creating a 3-d array\n",
    "arr2 = npy.array([[[1, 2], [3, 4]], [[5, 6], [7, 8]]])\n",
    "\n",
    "print(arr1.shape)\n",
    "print(arr2.shape)\n"
   ]
  },
  {
   "cell_type": "code",
   "execution_count": 8,
   "metadata": {},
   "outputs": [
    {
     "name": "stdout",
     "output_type": "stream",
     "text": [
      "8\n"
     ]
    }
   ],
   "source": [
    "# In Python, numpy.size() function count the number of elements along a given axis.\n",
    "# Python program explaining\n",
    "# numpy.size() method \n",
    "\n",
    "# importing numpy \n",
    "import numpy as np\n",
    "\n",
    "# Making a random array \n",
    "arr = np.array([[1, 2, 3, 4], [5, 6, 7, 8]])\n",
    "\n",
    "# By default, give the total number of elements.\n",
    "print(np.size(arr))\n"
   ]
  },
  {
   "cell_type": "code",
   "execution_count": 9,
   "metadata": {},
   "outputs": [
    {
     "name": "stdout",
     "output_type": "stream",
     "text": [
      "('John', [6., 7.])\n",
      "Grades of John are:  [6. 7.]\n",
      "Names are:  ['Sarah' 'John']\n"
     ]
    }
   ],
   "source": [
    "#Every ndarray has an associated data type (dtype) object. This data type object (dtype) informs us about the layout of the array.\n",
    "# Constructing a data type (dtype) object:\n",
    "\n",
    "# Python program to demonstrate\n",
    "# the use of data type object with structured array.\n",
    "import numpy as np\n",
    "\n",
    "dt = np.dtype([('name', np.unicode_, 16), ('grades', np.float64, (2,))])\n",
    "\n",
    "# x is a structured array with names and marks of students.\n",
    "# Data type of name of the student is np.unicode_ and\n",
    "# data type of marks is np.float(64)\n",
    "x = np.array([('Sarah', (8.0, 7.0)), ('John', (6.0, 7.0))], dtype=dt)\n",
    "\n",
    "print(x[1])\n",
    "print(\"Grades of John are: \",x[1]['grades'])\n",
    "print(\"Names are: \",x['name'])\n"
   ]
  },
  {
   "cell_type": "code",
   "execution_count": 10,
   "metadata": {},
   "outputs": [
    {
     "name": "stdout",
     "output_type": "stream",
     "text": [
      "('<f8', (2,))\n",
      "<U16\n"
     ]
    }
   ],
   "source": [
    "# Data type Objects with Structured Arrays:Data type objects are useful for creating structured arrays\n",
    "\n",
    "# Python program for demonstrating \n",
    "# the use of fields\n",
    "import numpy as np\n",
    "\n",
    "# A structured data type containing a 16-character string (in field ‘name’)\n",
    "# and a sub-array of two 64-bit floating-point number (in field ‘grades’):\n",
    "\n",
    "dt = np.dtype([('name', np.unicode_, 16), ('grades', np.float64, (2,))])\n",
    "\n",
    "# Data type of object with field grades\n",
    "print(dt['grades'])\n",
    "\n",
    "# Data type of object with field name\n",
    "print(dt['name'])\n"
   ]
  },
  {
   "cell_type": "code",
   "execution_count": 13,
   "metadata": {},
   "outputs": [
    {
     "name": "stdout",
     "output_type": "stream",
     "text": [
      "First array:\n",
      "[[0. 1.]\n",
      " [2. 3.]]\n",
      "\n",
      "Second array:\n",
      "[12 12]\n",
      "\n",
      "Adding the two arrays:\n",
      "[[12. 13.]\n",
      " [14. 15.]]\n",
      "\n",
      "Subtracting the two arrays:\n",
      "[[-12. -11.]\n",
      " [-10.  -9.]]\n",
      "\n",
      "Multiplying the two arrays:\n",
      "[[ 0. 12.]\n",
      " [24. 36.]]\n",
      "\n",
      "Dividing the two arrays:\n",
      "[[0.         0.08333333]\n",
      " [0.16666667 0.25      ]]\n"
     ]
    }
   ],
   "source": [
    "# Operations on Numpy Arrays:\n",
    "\n",
    "#Arithmetic Operations: \n",
    "# Python code to perform arithmetic\n",
    "# operations on NumPy array\n",
    "\n",
    "\n",
    "import numpy as np \n",
    "\n",
    "\n",
    "# Initializing the array\n",
    "arr1 = np.arange(4, dtype = np.float_).reshape(2, 2) \n",
    "\n",
    "print('First array:') \n",
    "print(arr1)\n",
    "\n",
    "print('\\nSecond array:') \n",
    "arr2 = np.array([12, 12]) \n",
    "print(arr2)\n",
    "\n",
    "print('\\nAdding the two arrays:') \n",
    "print(np.add(arr1, arr2))\n",
    "\n",
    "print('\\nSubtracting the two arrays:') \n",
    "print(np.subtract(arr1, arr2))\n",
    "\n",
    "print('\\nMultiplying the two arrays:')\n",
    "print(np.multiply(arr1, arr2))\n",
    "\n",
    "print('\\nDividing the two arrays:')\n",
    "print(np.divide(arr1, arr2))\n",
    "\n",
    "\n"
   ]
  },
  {
   "cell_type": "code",
   "execution_count": 14,
   "metadata": {},
   "outputs": [
    {
     "name": "stdout",
     "output_type": "stream",
     "text": [
      "Our array is:\n",
      "[ 25.     1.33   1.     1.   100.  ]\n",
      "\n",
      "After applying reciprocal function:\n",
      "[0.04      0.7518797 1.        1.        0.01     ]\n",
      "\n",
      "The second array is:\n",
      "[25]\n",
      "\n",
      "After applying reciprocal function:\n",
      "[0]\n"
     ]
    }
   ],
   "source": [
    "#numpy.reciprocal() \n",
    "\n",
    "# Python code to perform reciprocal operation\n",
    "# on NumPy array\n",
    "import numpy as np \n",
    "arr = np.array([25, 1.33, 1, 1, 100]) \n",
    "\n",
    "print('Our array is:')\n",
    "print(arr)\n",
    "\n",
    "print('\\nAfter applying reciprocal function:') \n",
    "print(np.reciprocal(arr))\n",
    "\n",
    "arr2 = np.array([25], dtype = int)\n",
    "print('\\nThe second array is:')\n",
    "print(arr2)\n",
    "\n",
    "print('\\nAfter applying reciprocal function:') \n",
    "print(np.reciprocal(arr2))\n"
   ]
  },
  {
   "cell_type": "code",
   "execution_count": 15,
   "metadata": {},
   "outputs": [
    {
     "name": "stdout",
     "output_type": "stream",
     "text": [
      "First array is:\n",
      "[ 5 10 15]\n",
      "\n",
      "Applying power function:\n",
      "[ 25 100 225]\n",
      "\n",
      "Second array is:\n",
      "[1 2 3]\n",
      "\n",
      "Applying power function again:\n",
      "[   5  100 3375]\n"
     ]
    }
   ],
   "source": [
    "#numpy.power()\n",
    "\n",
    "# Python code to perform power operation\n",
    "# on NumPy array\n",
    "\n",
    "\n",
    "import numpy as np \n",
    "\n",
    "\n",
    "arr = np.array([5, 10, 15]) \n",
    "\n",
    "print('First array is:') \n",
    "print(arr)\n",
    "\n",
    "print('\\nApplying power function:') \n",
    "print(np.power(arr, 2))\n",
    "\n",
    "print('\\nSecond array is:') \n",
    "arr1 = np.array([1, 2, 3]) \n",
    "print(arr1)\n",
    "\n",
    "print('\\nApplying power function again:') \n",
    "print(np.power(arr, arr1))\n"
   ]
  },
  {
   "cell_type": "code",
   "execution_count": 16,
   "metadata": {},
   "outputs": [
    {
     "name": "stdout",
     "output_type": "stream",
     "text": [
      "First array:\n",
      "[ 5 15 20]\n",
      "\n",
      "Second array:\n",
      "[2 5 9]\n",
      "\n",
      "Applying mod() function:\n",
      "[1 0 2]\n",
      "\n",
      "Applying remainder() function:\n",
      "[1 0 2]\n"
     ]
    }
   ],
   "source": [
    "#numpy.mod()\n",
    "\n",
    "# Python code to perform mod function\n",
    "# on NumPy array\n",
    "\n",
    "\n",
    "import numpy as np \n",
    "\n",
    "\n",
    "arr = np.array([5, 15, 20]) \n",
    "arr1 = np.array([2, 5, 9]) \n",
    "\n",
    "print('First array:') \n",
    "print(arr) \n",
    "\n",
    "print('\\nSecond array:') \n",
    "print(arr1)\n",
    "\n",
    "print('\\nApplying mod() function:') \n",
    "print(np.mod(arr, arr1))\n",
    "\n",
    "print('\\nApplying remainder() function:') \n",
    "print(np.remainder(arr, arr1))\n"
   ]
  },
  {
   "cell_type": "code",
   "execution_count": 17,
   "metadata": {},
   "outputs": [
    {
     "name": "stdout",
     "output_type": "stream",
     "text": [
      "[450 350   0  30]\n"
     ]
    }
   ],
   "source": [
    "#Broadcasting provides a means of vectorizing array operations, therefore eliminating the need for Python loops. \n",
    "# This is because NumPy is implemented in C Programming, which is a very efficient language.\n",
    "\n",
    "#Array Element-wise Multiplication\n",
    "import numpy as np \n",
    "\n",
    "a = np.array([5, 7, 3, 1]) \n",
    "b = np.array([90, 50, 0, 30]) \n",
    "\n",
    "# array are compatible because of same Dimension \n",
    "c = a * b \n",
    "print(c) \n"
   ]
  },
  {
   "cell_type": "code",
   "execution_count": 19,
   "metadata": {},
   "outputs": [
    {
     "ename": "NameError",
     "evalue": "name 'array' is not defined",
     "output_type": "error",
     "traceback": [
      "\u001b[1;31m---------------------------------------------------------------------------\u001b[0m",
      "\u001b[1;31mNameError\u001b[0m                                 Traceback (most recent call last)",
      "Cell \u001b[1;32mIn[19], line 4\u001b[0m\n\u001b[0;32m      1\u001b[0m \u001b[38;5;66;03m#NumPy Broadcasting Arrays in Python\u001b[39;00m\n\u001b[0;32m      2\u001b[0m \u001b[38;5;66;03m#Example: Broadcasting Array- Element Wise Multiplication\u001b[39;00m\n\u001b[1;32m----> 4\u001b[0m macros \u001b[38;5;241m=\u001b[39m array([ \n\u001b[0;32m      5\u001b[0m [\u001b[38;5;241m0.8\u001b[39m, \u001b[38;5;241m2.9\u001b[39m, \u001b[38;5;241m3.9\u001b[39m], \n\u001b[0;32m      6\u001b[0m [\u001b[38;5;241m52.4\u001b[39m, \u001b[38;5;241m23.6\u001b[39m, \u001b[38;5;241m36.5\u001b[39m], \n\u001b[0;32m      7\u001b[0m [\u001b[38;5;241m55.2\u001b[39m, \u001b[38;5;241m31.7\u001b[39m, \u001b[38;5;241m23.9\u001b[39m], \n\u001b[0;32m      8\u001b[0m [\u001b[38;5;241m14.4\u001b[39m, \u001b[38;5;241m11\u001b[39m, \u001b[38;5;241m4.9\u001b[39m] \n\u001b[0;32m      9\u001b[0m ]) \n\u001b[0;32m     11\u001b[0m result \u001b[38;5;241m=\u001b[39m zeros_like(macros) \n\u001b[0;32m     13\u001b[0m cal_per_macro \u001b[38;5;241m=\u001b[39m array([\u001b[38;5;241m3\u001b[39m, \u001b[38;5;241m3\u001b[39m, \u001b[38;5;241m8\u001b[39m]) \n",
      "\u001b[1;31mNameError\u001b[0m: name 'array' is not defined"
     ]
    }
   ],
   "source": [
    "#NumPy Broadcasting Arrays in Python\n",
    "#Example: Broadcasting Array- Element Wise Multiplication\n",
    "\n",
    "macros = array([ \n",
    "[0.8, 2.9, 3.9], \n",
    "[52.4, 23.6, 36.5], \n",
    "[55.2, 31.7, 23.9], \n",
    "[14.4, 11, 4.9] \n",
    "]) \n",
    "\n",
    "result = zeros_like(macros) \n",
    "\n",
    "cal_per_macro = array([3, 3, 8]) \n",
    "\n",
    "for i in range(macros.shape[0]): \n",
    "\tresult[i, :] = macros[i, :] * cal_per_macro \n",
    "\n",
    "result \n",
    "\n",
    "result \n"
   ]
  },
  {
   "cell_type": "code",
   "execution_count": 22,
   "metadata": {},
   "outputs": [
    {
     "ename": "SyntaxError",
     "evalue": "unterminated string literal (detected at line 4) (682347012.py, line 4)",
     "output_type": "error",
     "traceback": [
      "\u001b[1;36m  Cell \u001b[1;32mIn[22], line 4\u001b[1;36m\u001b[0m\n\u001b[1;33m    left-pad A's shape with 1s until it also has p dimensions\u001b[0m\n\u001b[1;37m              ^\u001b[0m\n\u001b[1;31mSyntaxError\u001b[0m\u001b[1;31m:\u001b[0m unterminated string literal (detected at line 4)\n"
     ]
    }
   ],
   "source": [
    "#Array Broadcasting Algorithm\n",
    "p = max(m, n)\n",
    "if m < p:\n",
    "    left-pad A's shape with 1s until it also has p dimensions\n",
    "else if n < p:\n",
    "    left-pad B's shape with 1s until it also has p dimensions\n",
    "result_dims = new list with p elements\n",
    "for i in p-1 ... 0:\n",
    "    A_dim_i = A.shape[i]\n",
    "    B_dim_i = B.shape[i]\n",
    "    if A_dim_i != 1 and B_dim_i != 1 and A_dim_i != B_dim_i:\n",
    "        raise ValueError(\"could not broadcast\")\n",
    "    else:\n",
    "        # Pick the Array which is having maximum Dimension\n",
    "        result_dims[i] = max(A_dim_i, B_dim_i) "
   ]
  },
  {
   "cell_type": "code",
   "execution_count": 23,
   "metadata": {},
   "outputs": [
    {
     "name": "stdout",
     "output_type": "stream",
     "text": [
      "[[11 22 33]\n",
      " [10 20 30]]\n",
      "4\n",
      "[[15 26 37]\n",
      " [14 24 34]]\n"
     ]
    }
   ],
   "source": [
    "#Array Broadcasting of Two-Dimensional Array  \n",
    "import numpy as np \n",
    "A = np.array([[11, 22, 33], [10, 20, 30]]) \n",
    "print(A) \n",
    "\n",
    "b = 4\n",
    "print(b) \n",
    "\n",
    "C = A + b \n",
    "print(C)\n"
   ]
  },
  {
   "cell_type": "code",
   "execution_count": 25,
   "metadata": {},
   "outputs": [
    {
     "name": "stdout",
     "output_type": "stream",
     "text": [
      "[[ 4  5]\n",
      " [ 8 10]\n",
      " [12 15]]\n",
      "[[2 4 6]\n",
      " [5 7 9]]\n",
      "[[ 5  6  7]\n",
      " [ 9 10 11]]\n",
      "[[ 5  6  7]\n",
      " [ 9 10 11]]\n",
      "[[ 2  4  6]\n",
      " [ 8 10 12]]\n"
     ]
    }
   ],
   "source": [
    "#NumPy Broadcasting Operations\n",
    "import numpy as np \n",
    "\n",
    "v = np.array([1, 2, 3]) \n",
    "w = np.array([4, 5])\t \n",
    "\n",
    "# Outer product of vectors v and w \n",
    "print(np.reshape(v, (3, 1)) * w) \n",
    "\n",
    "x = np.array([[1, 2, 3], [4, 5, 6]]) \n",
    "\n",
    "# Broadcasting vector v to matrix x \n",
    "print(x + v) \n",
    "\n",
    "# Broadcasting vector w to the transposed matrix x \n",
    "print((x.T + w).T) \n",
    "\n",
    "# Reshaping vector w and broadcasting to matrix x \n",
    "print(x + np.reshape(w, (2, 1))) \n",
    "\n",
    "# Broadcasting scalar multiplication to matrix x \n",
    "print(x * 2) \n"
   ]
  },
  {
   "cell_type": "code",
   "execution_count": 27,
   "metadata": {},
   "outputs": [],
   "source": [
    "#Rules for Broadcasting\n",
    "#Broadcasting arrays is possible if the following rules are met: \n",
    "\n",
    "#If the arrays don’t have the same rank then prepend the shape of the lower rank array with 1s until both shapes have the same length.\n",
    "#The two arrays are compatible in a dimension if they have the same size in the dimension or if one of the arrays has size 1 in that dimension.\n",
    "#The arrays can be broadcast together if they are compatible with all dimensions.\n",
    "#After broadcasting, each array behaves as if it had a shape equal to the element-wise maximum of shapes of the two input arrays.\n",
    "#In any dimension where one array had size 1 and the other array had size greater than 1, the first array behaves as if it were copied along that dimension."
   ]
  },
  {
   "cell_type": "code",
   "execution_count": 28,
   "metadata": {},
   "outputs": [
    {
     "name": "stdout",
     "output_type": "stream",
     "text": [
      "\n",
      " A sequential array with a negative step: \n",
      " [10  8  6  4  2]\n",
      "\n",
      " Elements at these indices are:\n",
      " [4 8 6]\n"
     ]
    }
   ],
   "source": [
    "#Basic Slicing and Advanced Indexing in NumPy\n",
    "#Indexing a NumPy array means accessing the elements of the NumPy array at the given index.\n",
    "#There are two types of indexing in NumPy: basic indexing and advanced indexing.\n",
    "#Indexing Using Index arrays:\n",
    "import numpy as np \n",
    "# Create a sequence of integers from 10 to 1 with a step of -2 \n",
    "a = np.arange(10, 1, -2) \n",
    "print(\"\\n A sequential array with a negative step: \\n\",a) \n",
    "# Indexes are specified inside the np.array method. \n",
    "newarr = a[np.array([3, 1, 2 ])] \n",
    "print(\"\\n Elements at these indices are:\\n\",newarr)\n"
   ]
  },
  {
   "cell_type": "code",
   "execution_count": 29,
   "metadata": {},
   "outputs": [
    {
     "name": "stdout",
     "output_type": "stream",
     "text": [
      "[1 3 6]\n"
     ]
    }
   ],
   "source": [
    "#Advanced indexing\n",
    "#NumPy Advanced indexing returns a copy of data rather than a view of it. Advanced indexing is of two types integer and Boolean.\n",
    "\n",
    "#There are two types of Advanced Indexing in NumPy array indexing:\n",
    "\n",
    "#Purely integer indexing\n",
    "#Boolean integer indexing\n",
    "\n",
    "#Purely integer array indexing\n",
    "#Purely integer array indexing allows us to access elements from an ndarray (N-dimensional array) using integers\n",
    "# Python program showing advanced indexing \n",
    "import numpy as np \n",
    "a = np.array([[1 ,2 ],[3 ,4 ],[5 ,6 ]]) \n",
    "print(a[[0 ,1 ,2 ],[0 ,0 ,1]])\n",
    "\n"
   ]
  },
  {
   "cell_type": "code",
   "execution_count": 30,
   "metadata": {},
   "outputs": [
    {
     "name": "stdout",
     "output_type": "stream",
     "text": [
      "[ 80 100]\n"
     ]
    }
   ],
   "source": [
    "#Boolean Indexing \n",
    "#This indexing has some boolean expressions as the index.\n",
    "\n",
    "#Those elements are returned which satisfy that Boolean expression. It is used for filtering the desired element values.\n",
    "# You may wish to select numbers greater than 50 \n",
    "import numpy as np \n",
    "\n",
    "a = np.array([10, 40, 80, 50, 100]) \n",
    "print(a[a>50])\n"
   ]
  },
  {
   "cell_type": "code",
   "execution_count": 38,
   "metadata": {},
   "outputs": [
    {
     "name": "stdout",
     "output_type": "stream",
     "text": [
      "[[ 2  5]\n",
      " [ 8 11]]\n"
     ]
    }
   ],
   "source": [
    "#Basic Slicing and indexing\n",
    "#Basic slicing and indexing is used to access a specific element or range of elements from a NumPy array.\n",
    "import numpy as np \n",
    "# A 3 dimensional array. \n",
    "b = np.array([[[1, 2, 3],[4, 5, 6]], \n",
    "\t\t\t[[7, 8, 9],[10, 11, 12]]]) \n",
    "print(b[...,1]) #Equivalent to b[: ,: ,1 ]\n",
    "\n",
    "\n"
   ]
  },
  {
   "cell_type": "code",
   "execution_count": 41,
   "metadata": {},
   "outputs": [
    {
     "name": "stdout",
     "output_type": "stream",
     "text": [
      "Reshaped Array:\n",
      " [[1 2 3]\n",
      " [4 5 6]]\n"
     ]
    }
   ],
   "source": [
    "#1. Reshaping Arrays\n",
    "#Reshaping an array means changing its shape without changing its data. This is useful when you want to convert the array into a different dimension.\n",
    "\n",
    "#Example:\n",
    "import numpy as np\n",
    "\n",
    "# Creating a 1D array\n",
    "arr = np.array([1, 2, 3, 4, 5, 6])\n",
    "\n",
    "# Reshaping the array to 2x3\n",
    "reshaped_arr = arr.reshape((2, 3))\n",
    "print(\"Reshaped Array:\\n\", reshaped_arr)\n"
   ]
  },
  {
   "cell_type": "code",
   "execution_count": 43,
   "metadata": {},
   "outputs": [
    {
     "name": "stdout",
     "output_type": "stream",
     "text": [
      "Flattened Array: [1 2 3 4 5 6]\n"
     ]
    }
   ],
   "source": [
    "#2. Flattening Arrays\n",
    "#Flattening an array means converting a multi-dimensional array into a one-dimensional array. This can be useful when you need a single list of elements.\n",
    "\n",
    "#Example:\n",
    "# Creating a 2D array\n",
    "arr = np.array([[1, 2, 3], [4, 5, 6]])\n",
    "\n",
    "# Flattening the array\n",
    "flattened_arr = arr.flatten()\n",
    "print(\"Flattened Array:\", flattened_arr)\n"
   ]
  },
  {
   "cell_type": "code",
   "execution_count": 44,
   "metadata": {},
   "outputs": [
    {
     "name": "stdout",
     "output_type": "stream",
     "text": [
      "Concatenated Array: [1 2 3 4 5 6]\n",
      "Vertically Stacked Array:\n",
      " [[1 2]\n",
      " [3 4]\n",
      " [5 6]\n",
      " [7 8]]\n",
      "Horizontally Stacked Array:\n",
      " [[1 2 5 6]\n",
      " [3 4 7 8]]\n"
     ]
    }
   ],
   "source": [
    "#3. Concatenating Arrays\n",
    "#Concatenation involves combining multiple arrays into one. NumPy provides functions like np.concatenate, np.vstack, and np.hstack for this purpose.\n",
    "\n",
    "#Example:\n",
    "# Creating two 1D arrays\n",
    "arr1 = np.array([1, 2, 3])\n",
    "arr2 = np.array([4, 5, 6])\n",
    "\n",
    "# Concatenating the arrays along the first axis\n",
    "concatenated_arr = np.concatenate((arr1, arr2))\n",
    "print(\"Concatenated Array:\", concatenated_arr)\n",
    "\n",
    "# Creating two 2D arrays\n",
    "arr3 = np.array([[1, 2], [3, 4]])\n",
    "arr4 = np.array([[5, 6], [7, 8]])\n",
    "\n",
    "# Vertical concatenation\n",
    "vstacked_arr = np.vstack((arr3, arr4))\n",
    "print(\"Vertically Stacked Array:\\n\", vstacked_arr)\n",
    "\n",
    "# Horizontal concatenation\n",
    "hstacked_arr = np.hstack((arr3, arr4))\n",
    "print(\"Horizontally Stacked Array:\\n\", hstacked_arr)\n"
   ]
  },
  {
   "cell_type": "code",
   "execution_count": 46,
   "metadata": {},
   "outputs": [
    {
     "name": "stdout",
     "output_type": "stream",
     "text": [
      "Vertical Stack:\n",
      " [[ 1  2  3]\n",
      " [ 4  5  6]\n",
      " [ 7  8  9]\n",
      " [10 11 12]]\n"
     ]
    }
   ],
   "source": [
    "#Stacking Arrays\n",
    "# np.vstack\n",
    "#np.vstack is used to stack arrays vertically (row-wise).\n",
    "import numpy as np\n",
    "\n",
    "# Creating two 2D arrays\n",
    "a = np.array([[1, 2, 3], [4, 5, 6]])\n",
    "b = np.array([[7, 8, 9], [10, 11, 12]])\n",
    "\n",
    "# Vertically stacking arrays\n",
    "vstacked = np.vstack((a, b))\n",
    "print(\"Vertical Stack:\\n\", vstacked)\n"
   ]
  },
  {
   "cell_type": "code",
   "execution_count": 47,
   "metadata": {},
   "outputs": [
    {
     "name": "stdout",
     "output_type": "stream",
     "text": [
      "Stack along new axis (axis=0):\n",
      " [[[ 1  2  3]\n",
      "  [ 4  5  6]]\n",
      "\n",
      " [[ 7  8  9]\n",
      "  [10 11 12]]]\n"
     ]
    }
   ],
   "source": [
    "# np.stack\n",
    "#np.stack joins a sequence of arrays along a new axis. The axis parameter specifies the index of the new axis in the dimensions of the result.\n",
    "# Stacking arrays along a new axis\n",
    "stacked = np.stack((a, b), axis=0)\n",
    "print(\"Stack along new axis (axis=0):\\n\", stacked)\n"
   ]
  },
  {
   "cell_type": "code",
   "execution_count": 48,
   "metadata": {},
   "outputs": [
    {
     "name": "stdout",
     "output_type": "stream",
     "text": [
      "Horizontal Stack:\n",
      " [[ 1  2  3  7  8  9]\n",
      " [ 4  5  6 10 11 12]]\n"
     ]
    }
   ],
   "source": [
    "# np.hstack\n",
    "#np.hstack is used to stack arrays horizontally (column-wise).\n",
    "\n",
    "# Horizontally stacking arrays\n",
    "hstacked = np.hstack((a, b))\n",
    "print(\"Horizontal Stack:\\n\", hstacked)\n"
   ]
  },
  {
   "cell_type": "code",
   "execution_count": 49,
   "metadata": {},
   "outputs": [
    {
     "name": "stdout",
     "output_type": "stream",
     "text": [
      "Split into 2 sub-arrays:\n",
      " [array([[1, 2, 3]]), array([[4, 5, 6]])]\n"
     ]
    }
   ],
   "source": [
    "#Splitting Arrays\n",
    "#np.split\n",
    "#np.split divides an array into multiple sub-arrays along a specified axis.\n",
    "# Splitting array into 2 equal sub-arrays\n",
    "splitted = np.split(a, 2)\n",
    "print(\"Split into 2 sub-arrays:\\n\", splitted)\n"
   ]
  },
  {
   "cell_type": "code",
   "execution_count": 50,
   "metadata": {},
   "outputs": [
    {
     "name": "stdout",
     "output_type": "stream",
     "text": [
      "Vertical Split:\n",
      " [array([[1, 2, 3]]), array([[4, 5, 6]])]\n"
     ]
    }
   ],
   "source": [
    "# np.vsplit\n",
    "#np.vsplit splits an array into multiple sub-arrays vertically (row-wise).\n",
    "# Splitting array vertically into 2 sub-array\n",
    "vsplitted = np.vsplit(a, 2)\n",
    "print(\"Vertical Split:\\n\", vsplitted)\n"
   ]
  },
  {
   "cell_type": "code",
   "execution_count": 52,
   "metadata": {},
   "outputs": [
    {
     "name": "stdout",
     "output_type": "stream",
     "text": [
      "Horizontal Split:\n",
      " [array([[1],\n",
      "       [4]]), array([[2],\n",
      "       [5]]), array([[3],\n",
      "       [6]])]\n"
     ]
    }
   ],
   "source": [
    "#3. np.hsplit\n",
    "#np.hsplit splits an array into multiple sub-arrays horizontally (column-wise).\n",
    "# Splitting array horizontally into 3 sub-arrays\n",
    "hsplitted = np.hsplit(a, 3)\n",
    "print(\"Horizontal Split:\\n\", hsplitted)\n"
   ]
  },
  {
   "cell_type": "code",
   "execution_count": 53,
   "metadata": {},
   "outputs": [
    {
     "name": "stdout",
     "output_type": "stream",
     "text": [
      "[1 2 3 4 5 6]\n"
     ]
    }
   ],
   "source": [
    "#adding and removing elemts\n",
    "#1. Appending Elements\n",
    "#WE can use the numpy.append function to append elements to an array. \n",
    "# It returns a new array with the values appended to the end.\n",
    "import numpy as np\n",
    "\n",
    "arr = np.array([1, 2, 3])\n",
    "new_arr = np.append(arr, [4, 5, 6])\n",
    "print(new_arr)\n"
   ]
  },
  {
   "cell_type": "code",
   "execution_count": 55,
   "metadata": {},
   "outputs": [
    {
     "name": "stdout",
     "output_type": "stream",
     "text": [
      "[1 4 5 2 3]\n"
     ]
    }
   ],
   "source": [
    "#2. Inserting Elements\n",
    "#WE can use the numpy.insert function to insert values into an array at specified indices.\n",
    "import numpy as np\n",
    "\n",
    "arr = np.array([1, 2, 3])\n",
    "new_arr = np.insert(arr, 1, [4, 5])\n",
    "print(new_arr)\n"
   ]
  },
  {
   "cell_type": "code",
   "execution_count": 56,
   "metadata": {},
   "outputs": [
    {
     "name": "stdout",
     "output_type": "stream",
     "text": [
      "[1 3 5]\n"
     ]
    }
   ],
   "source": [
    "#3. Deleting Elements\n",
    "#we  can use the numpy.delete function to remove elements from an array at specified indices.\n",
    "\n",
    "import numpy as np\n",
    "\n",
    "arr = np.array([1, 2, 3, 4, 5])\n",
    "new_arr = np.delete(arr, [1, 3])\n",
    "print(new_arr)\n"
   ]
  },
  {
   "cell_type": "code",
   "execution_count": null,
   "metadata": {},
   "outputs": [],
   "source": []
  }
 ],
 "metadata": {
  "kernelspec": {
   "display_name": "base",
   "language": "python",
   "name": "python3"
  },
  "language_info": {
   "codemirror_mode": {
    "name": "ipython",
    "version": 3
   },
   "file_extension": ".py",
   "mimetype": "text/x-python",
   "name": "python",
   "nbconvert_exporter": "python",
   "pygments_lexer": "ipython3",
   "version": "3.11.4"
  }
 },
 "nbformat": 4,
 "nbformat_minor": 2
}
