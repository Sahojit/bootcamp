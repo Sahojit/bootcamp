{
 "cells": [
  {
   "cell_type": "code",
   "execution_count": 1,
   "metadata": {},
   "outputs": [
    {
     "name": "stdout",
     "output_type": "stream",
     "text": [
      "('lion', 'dog', 'tiger')\n"
     ]
    }
   ],
   "source": [
    "#creating tuples \n",
    "x= (\"lion\", \"dog\", \"tiger\")\n",
    "print(x)"
   ]
  },
  {
   "cell_type": "code",
   "execution_count": 2,
   "metadata": {},
   "outputs": [
    {
     "name": "stdout",
     "output_type": "stream",
     "text": [
      "('lion', 'tiger', 'dog', 'lion', 'dog')\n",
      "3\n"
     ]
    }
   ],
   "source": [
    "# Allow Duplicates:\n",
    "x= (\"lion\", \"tiger\", \"dog\", \"lion\", \"dog\")\n",
    "print(x)\n",
    "\n",
    "#Tuple Length:\n",
    "thistuple = tuple((\"lion\", \"dog\", \"cherry\"))\n",
    "print(len(thistuple))"
   ]
  },
  {
   "cell_type": "code",
   "execution_count": 3,
   "metadata": {},
   "outputs": [
    {
     "name": "stdout",
     "output_type": "stream",
     "text": [
      "('xyz', 69, True, 100, 'male')\n"
     ]
    }
   ],
   "source": [
    "# Tuple can store different datatypes \n",
    "tuple1 = (\"xyz\", 69, True, 100, \"male\")\n",
    "print(tuple1)"
   ]
  },
  {
   "cell_type": "code",
   "execution_count": 5,
   "metadata": {},
   "outputs": [
    {
     "name": "stdout",
     "output_type": "stream",
     "text": [
      "('lion', 'tiger', 'dog')\n",
      "tiger\n",
      "('dog', 'hyena', 'cat')\n",
      "('lion', 'tiger', 'dog', 'hyena')\n",
      "('hyena', 'cat', 'hippo')\n"
     ]
    }
   ],
   "source": [
    "# note the double round-brackets\n",
    "q = tuple((\"lion\", \"tiger\", \"dog\")) \n",
    "print(q)\n",
    "\n",
    "#Print the second item in the tuple:\n",
    "w = (\"lion\", \"tiger\", \"dog\")\n",
    "print(w[1])\n",
    "\n",
    "#Return the third, fourth, and fifth item:\n",
    "e = (\"lion\", \"tiger\", \"dog\", \"hyena\", \"cat\", \"hippo\", \"deer\")\n",
    "print(e[2:5])\n",
    "\n",
    "#This example returns the items from the beginning to, but NOT included, \"kiwi\":\n",
    "t= (\"lion\", \"tiger\", \"dog\", \"hyena\", \"cat\", \"hippo\", \"deer\")\n",
    "print(t[:4])\n",
    "\n",
    "#This example returns the items from index -4 (included) to index -1 (excluded)\n",
    "le = (\"lion\", \"tiger\", \"dog\", \"hyena\", \"cat\", \"hippo\", \"deer\")\n",
    "print(le[-4:-1])"
   ]
  },
  {
   "cell_type": "code",
   "execution_count": 6,
   "metadata": {},
   "outputs": [
    {
     "name": "stdout",
     "output_type": "stream",
     "text": [
      "('lion', 'tiger', 'dog', 'lion')\n"
     ]
    }
   ],
   "source": [
    "#Convert the tuple into a list , add \"orange\", and convert it back into a tuple:\n",
    "thistuple = (\"lion\", \"tiger\", \"dog\")\n",
    "y = list(thistuple)\n",
    "y.append(\"lion\")\n",
    "thistuple = tuple(y)\n",
    "\n",
    "print(thistuple)"
   ]
  },
  {
   "cell_type": "code",
   "execution_count": 8,
   "metadata": {},
   "outputs": [
    {
     "ename": "NameError",
     "evalue": "name 'thistuple' is not defined",
     "output_type": "error",
     "traceback": [
      "\u001b[1;31m---------------------------------------------------------------------------\u001b[0m",
      "\u001b[1;31mNameError\u001b[0m                                 Traceback (most recent call last)",
      "Cell \u001b[1;32mIn[8], line 4\u001b[0m\n\u001b[0;32m      2\u001b[0m thistuple \u001b[38;5;241m=\u001b[39m (\u001b[38;5;124m\"\u001b[39m\u001b[38;5;124mlion\u001b[39m\u001b[38;5;124m\"\u001b[39m, \u001b[38;5;124m\"\u001b[39m\u001b[38;5;124mtiger\u001b[39m\u001b[38;5;124m\"\u001b[39m, \u001b[38;5;124m\"\u001b[39m\u001b[38;5;124mdog\u001b[39m\u001b[38;5;124m\"\u001b[39m)\n\u001b[0;32m      3\u001b[0m \u001b[38;5;28;01mdel\u001b[39;00m thistuple\n\u001b[1;32m----> 4\u001b[0m \u001b[38;5;28mprint\u001b[39m(thistuple)\n",
      "\u001b[1;31mNameError\u001b[0m: name 'thistuple' is not defined"
     ]
    }
   ],
   "source": [
    "# Delete tuple:\n",
    "thistuple = (\"lion\", \"tiger\", \"dog\")\n",
    "del thistuple\n",
    "print(thistuple)\n",
    "#this will raise an error because the tuple no longer exists"
   ]
  },
  {
   "cell_type": "code",
   "execution_count": 9,
   "metadata": {},
   "outputs": [
    {
     "name": "stdout",
     "output_type": "stream",
     "text": [
      "lion\n",
      "['tiger', 'dog', 'hyena']\n",
      "cat\n"
     ]
    }
   ],
   "source": [
    "# Using Asterisk*:\n",
    "animal = (\"lion\", \"tiger\", \"dog\", \"hyena\", \"cat\")\n",
    "\n",
    "(teeth, *strong, carnivore) = animal\n",
    "\n",
    "print(teeth)\n",
    "print(strong)\n",
    "print(carnivore)"
   ]
  },
  {
   "cell_type": "code",
   "execution_count": 10,
   "metadata": {},
   "outputs": [
    {
     "name": "stdout",
     "output_type": "stream",
     "text": [
      "lion\n",
      "tiger\n",
      "dog\n"
     ]
    }
   ],
   "source": [
    "# You can loop through the tuple items by using a for loop.\n",
    "i = (\"lion\", \"tiger\", \"dog\")\n",
    "for x in i:\n",
    "  print(x)"
   ]
  },
  {
   "cell_type": "code",
   "execution_count": 13,
   "metadata": {},
   "outputs": [
    {
     "name": "stdout",
     "output_type": "stream",
     "text": [
      "Joined tuple: (1, 2, 3, 4, 5, 6)\n"
     ]
    }
   ],
   "source": [
    "# We can join two tuples\n",
    "tuple1 = (1, 2, 3)\n",
    "tuple2 = (4, 5, 6)\n",
    "\n",
    "joined_tuple = tuple1 + tuple2\n",
    "\n",
    "print(\"Joined tuple:\", joined_tuple)  # Output: Joined tuple: (1, 2, 3, 4, 5, 6)"
   ]
  },
  {
   "cell_type": "code",
   "execution_count": 14,
   "metadata": {},
   "outputs": [
    {
     "name": "stdout",
     "output_type": "stream",
     "text": [
      "('lion', 'tiger', 'dog', 'lion', 'tiger', 'dog')\n"
     ]
    }
   ],
   "source": [
    "# We can multiply tuple\n",
    "animal = (\"lion\", \"tiger\", \"dog\")\n",
    "mytuple = animal * 2\n",
    "\n",
    "print(mytuple)"
   ]
  },
  {
   "cell_type": "code",
   "execution_count": 15,
   "metadata": {},
   "outputs": [
    {
     "name": "stdout",
     "output_type": "stream",
     "text": [
      "['lion', 'dog']\n",
      "['tiger', 'hippo']\n",
      "[1, 10, 20, 30, 5, 6, 7, 8, 9]\n",
      "[1, 10, 20, 30, 40, 50, 5, 6, 7, 8, 9]\n"
     ]
    }
   ],
   "source": [
    "#Slicing and indexing \n",
    "\n",
    "my_list = ['lion', 'dog', 'tiger', 'hippo']\n",
    "print(my_list[:2]) # output: ['lion', 'dog']\n",
    "print(my_list[2:]) # output: ['tiger', 'hippo']\n",
    "\n",
    "numbers = [1, 2, 3, 4, 5, 6, 7, 8, 9]\n",
    "numbers[1:4] = [10, 20, 30]\n",
    "print(numbers) # output: [1, 10, 20, 30, 5, 6, 7, 8, 9]\n",
    "\n",
    "numbers[4:4] = [40, 50]\n",
    "print(numbers) # output: [1, 10, 20, 30, 40, 50, 5, 6, 7, 8, 9]"
   ]
  },
  {
   "cell_type": "code",
   "execution_count": 16,
   "metadata": {},
   "outputs": [
    {
     "name": "stdout",
     "output_type": "stream",
     "text": [
      "Length of the list: 5\n",
      "Sum of numbers: 150\n",
      "Largest number: 80\n",
      "Smallest number: 10\n",
      "Sorted list: [10, 20, 30, 50, 80]\n"
     ]
    }
   ],
   "source": [
    "# Built in functions\n",
    "# len()\n",
    "numbers_list = [10, 20, 30, 40, 50]\n",
    "length = len(numbers_list)\n",
    "print(\"Length of the list:\", length)  # Output: Length of the list: 5\n",
    "\n",
    "# sum()\n",
    "numbers_list = [10, 20, 30, 40, 50]\n",
    "total_sum = sum(numbers_list)\n",
    "print(\"Sum of numbers:\", total_sum)  # Output: Sum of numbers: 150\n",
    "\n",
    "# max()\n",
    "numbers_list = [10, 50, 20, 80, 30]\n",
    "largest = max(numbers_list)\n",
    "print(\"Largest number:\", largest)  # Output: Largest number: 80\n",
    "\n",
    "# min()\n",
    "numbers_list = [10, 50, 20, 80, 30]\n",
    "smallest = min(numbers_list)\n",
    "print(\"Smallest number:\", smallest)  # Output: Smallest number: 10\n",
    "\n",
    "# sorted()\n",
    "numbers_list = [10, 50, 20, 80, 30]\n",
    "sorted_list = sorted(numbers_list)\n",
    "print(\"Sorted list:\", sorted_list)  # Output: Sorted list: [10, 20, 30, 50, 80]\n"
   ]
  },
  {
   "cell_type": "code",
   "execution_count": null,
   "metadata": {},
   "outputs": [],
   "source": []
  }
 ],
 "metadata": {
  "kernelspec": {
   "display_name": "base",
   "language": "python",
   "name": "python3"
  },
  "language_info": {
   "codemirror_mode": {
    "name": "ipython",
    "version": 3
   },
   "file_extension": ".py",
   "mimetype": "text/x-python",
   "name": "python",
   "nbconvert_exporter": "python",
   "pygments_lexer": "ipython3",
   "version": "3.11.4"
  }
 },
 "nbformat": 4,
 "nbformat_minor": 2
}
