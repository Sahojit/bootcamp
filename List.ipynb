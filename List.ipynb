{
 "cells": [
  {
   "cell_type": "code",
   "execution_count": 1,
   "metadata": {},
   "outputs": [],
   "source": [
    "# Appending list\n",
    "animal = [\"lion\", \"tiger\", \"zebra\"]"
   ]
  },
  {
   "cell_type": "code",
   "execution_count": 2,
   "metadata": {},
   "outputs": [
    {
     "name": "stdout",
     "output_type": "stream",
     "text": [
      "Append: ['lion', 'tiger', 'zebra', 'elephant']\n"
     ]
    }
   ],
   "source": [
    "# Append\n",
    "animal.append(\"elephant\")\n",
    "print(f\"Append: {animal}\")"
   ]
  },
  {
   "cell_type": "code",
   "execution_count": 3,
   "metadata": {},
   "outputs": [
    {
     "name": "stdout",
     "output_type": "stream",
     "text": [
      "Insert: ['lion', 'hyena', 'tiger', 'zebra', 'elephant']\n"
     ]
    }
   ],
   "source": [
    "# Insert\n",
    "animal.insert(1, \"hyena\")\n",
    "print(f\"Insert: {animal}\")"
   ]
  },
  {
   "cell_type": "code",
   "execution_count": 4,
   "metadata": {},
   "outputs": [
    {
     "name": "stdout",
     "output_type": "stream",
     "text": [
      "Remove: ['hyena', 'tiger', 'zebra', 'elephant']\n"
     ]
    }
   ],
   "source": [
    "# Remove\n",
    "animal.remove(\"lion\")\n",
    "print(f\"Remove: {animal}\")"
   ]
  },
  {
   "cell_type": "code",
   "execution_count": 5,
   "metadata": {},
   "outputs": [
    {
     "name": "stdout",
     "output_type": "stream",
     "text": [
      "Shallow Copy: ['hippo', 'tiger', 'zebra', 'elephant'], Original: ['hyena', 'tiger', 'zebra', 'elephant']\n",
      "Deep Copy: ['cheetah', 'tiger', 'zebra', 'elephant'], Original: ['hyena', 'tiger', 'zebra', 'elephant']\n"
     ]
    }
   ],
   "source": [
    "# Copy\n",
    "# Shallow Copy\n",
    "animal_shallow_copy = animal.copy()\n",
    "animal_shallow_copy[0] = \"hippo\"  \n",
    "print(f\"Shallow Copy: {animal_shallow_copy}, Original: {animal}\")\n",
    "\n",
    "# Deep Copy\n",
    "import copy\n",
    "animal_deep_copy = copy.deepcopy(animal)\n",
    "animal_deep_copy[0] = \"cheetah\"  \n",
    "print(f\"Deep Copy: {animal_deep_copy}, Original: {animal}\")"
   ]
  },
  {
   "cell_type": "code",
   "execution_count": 7,
   "metadata": {},
   "outputs": [
    {
     "name": "stdout",
     "output_type": "stream",
     "text": [
      "Count of 'lion': 2\n"
     ]
    }
   ],
   "source": [
    "# Count\n",
    "animal.append(\"lion\")\n",
    "lion_count = animal.count(\"lion\")\n",
    "print(f\"Count of 'lion': {lion_count}\")"
   ]
  },
  {
   "cell_type": "code",
   "execution_count": 8,
   "metadata": {},
   "outputs": [
    {
     "name": "stdout",
     "output_type": "stream",
     "text": [
      "Extend: ['hyena', 'tiger', 'zebra', 'elephant', 'lion', 'lion', 'deer', 'koala']\n"
     ]
    }
   ],
   "source": [
    "# Extend\n",
    "more_animal = [\"deer\", \"koala\"]\n",
    "animal.extend(more_animal)\n",
    "print(f\"Extend: {animal}\")\n"
   ]
  },
  {
   "cell_type": "code",
   "execution_count": 11,
   "metadata": {},
   "outputs": [
    {
     "name": "stdout",
     "output_type": "stream",
     "text": [
      "Index of 'lion': 4\n"
     ]
    }
   ],
   "source": [
    "# Index\n",
    "lion_index = animal.index(\"lion\")\n",
    "print(f\"Index of 'lion': {lion_index}\")\n"
   ]
  },
  {
   "cell_type": "code",
   "execution_count": 12,
   "metadata": {},
   "outputs": [
    {
     "name": "stdout",
     "output_type": "stream",
     "text": [
      "Sort: ['deer', 'elephant', 'hyena', 'koala', 'lion', 'lion', 'tiger', 'zebra']\n"
     ]
    }
   ],
   "source": [
    "# Sort\n",
    "animal.sort() \n",
    "print(f\"Sort: {animal}\")"
   ]
  },
  {
   "cell_type": "code",
   "execution_count": 13,
   "metadata": {},
   "outputs": [
    {
     "name": "stdout",
     "output_type": "stream",
     "text": [
      "Reverse: ['zebra', 'tiger', 'lion', 'lion', 'koala', 'hyena', 'elephant', 'deer']\n"
     ]
    }
   ],
   "source": [
    "# Reverse\n",
    "animal.reverse()\n",
    "print(f\"Reverse: {animal}\")"
   ]
  },
  {
   "cell_type": "code",
   "execution_count": 14,
   "metadata": {},
   "outputs": [
    {
     "name": "stdout",
     "output_type": "stream",
     "text": [
      "Clear: []\n"
     ]
    }
   ],
   "source": [
    "# Clear\n",
    "animal.clear()\n",
    "print(f\"Clear: {animal}\")"
   ]
  },
  {
   "cell_type": "code",
   "execution_count": 15,
   "metadata": {},
   "outputs": [
    {
     "name": "stdout",
     "output_type": "stream",
     "text": [
      "Pop: koala, Remaining: ['deer']\n"
     ]
    }
   ],
   "source": [
    "#Pop\n",
    "removed_animal = more_animal.pop()  \n",
    "print(f\"Pop: {removed_animal}, Remaining: {more_animal}\")"
   ]
  },
  {
   "cell_type": "code",
   "execution_count": 16,
   "metadata": {},
   "outputs": [
    {
     "name": "stdout",
     "output_type": "stream",
     "text": [
      "List of cubes: [1, 8, 27, 64, 125, 216, 343, 512, 729, 1000]\n",
      "Odd numbers: [1, 3, 5, 7, 9, 11, 13, 15, 17, 19]\n",
      "Reversed words: ['atad', 'ecneics', 'enihcam', 'gninrael']\n",
      "Number-Cube pairs: [(1, 1), (2, 8), (3, 27), (4, 64), (5, 125), (6, 216), (7, 343), (8, 512), (9, 729), (10, 1000)]\n",
      "Flattened list: ['a', 'b', 'c', 'd', 'e', 'f', 'g', 'h', 'i']\n"
     ]
    }
   ],
   "source": [
    "# List of cubes for numbers from 1 to 10\n",
    "cubes = [x ** 3 for x in range(1, 11)]\n",
    "print(\"List of cubes:\", cubes)\n",
    "\n",
    "# List of odd numbers from 1 to 20\n",
    "odd_numbers = [x for x in range(1, 21) if x % 2 != 0]\n",
    "print(\"Odd numbers:\", odd_numbers)\n",
    "\n",
    "# List of words reversed\n",
    "words = [\"data\", \"science\", \"machine\", \"learning\"]\n",
    "reversed_words = [word[::-1] for word in words]\n",
    "print(\"Reversed words:\", reversed_words)\n",
    "\n",
    "# List of tuples with numbers and their cubes\n",
    "number_cube_pairs = [(x, x ** 3) for x in range(1, 11)]\n",
    "print(\"Number-Cube pairs:\", number_cube_pairs)\n",
    "\n",
    "# Flattening a list of lists into a single list\n",
    "nested_list = [['a', 'b', 'c'], ['d', 'e', 'f'], ['g', 'h', 'i']]\n",
    "flattened_list = [item for sublist in nested_list for item in sublist]\n",
    "print(\"Flattened list:\", flattened_list)\n"
   ]
  },
  {
   "cell_type": "code",
   "execution_count": 29,
   "metadata": {},
   "outputs": [
    {
     "ename": "IndexError",
     "evalue": "list index out of range",
     "output_type": "error",
     "traceback": [
      "\u001b[1;31m---------------------------------------------------------------------------\u001b[0m",
      "\u001b[1;31mIndexError\u001b[0m                                Traceback (most recent call last)",
      "Cell \u001b[1;32mIn[29], line 3\u001b[0m\n\u001b[0;32m      1\u001b[0m \u001b[38;5;66;03m# indexing\u001b[39;00m\n\u001b[0;32m      2\u001b[0m \u001b[38;5;66;03m# Accessing elements using positive indexing\u001b[39;00m\n\u001b[1;32m----> 3\u001b[0m first_animal \u001b[38;5;241m=\u001b[39m animal[\u001b[38;5;241m0\u001b[39m]  \n\u001b[0;32m      4\u001b[0m second_animal \u001b[38;5;241m=\u001b[39m animal[\u001b[38;5;241m1\u001b[39m] \n\u001b[0;32m      5\u001b[0m last_animal \u001b[38;5;241m=\u001b[39m animal[\u001b[38;5;241m-\u001b[39m\u001b[38;5;241m1\u001b[39m]  \n",
      "\u001b[1;31mIndexError\u001b[0m: list index out of range"
     ]
    }
   ],
   "source": [
    "# indexing\n",
    "# Accessing elements using positive indexing\n",
    "first_animal = animal[0]  \n",
    "second_animal = animal[1] \n",
    "last_animal = animal[-1]  \n",
    "print(\"First animal:\", first_animal)  \n",
    "print(\"Second animal:\", second_animal) \n",
    "print(\"Last animal:\", last_animal)  \n",
    "\n",
    "# Accessing elements using negative indexing\n",
    "second_last_animal = animal[-4] \n",
    "third_last_animal = animal[-5]  \n",
    "print(\"Second last animal:\", second_last_animal)  \n",
    "print(\"Third last animal:\", third_last_animal)  \n",
    "\n",
    "# Get the value of an element at a specific index\n",
    "middle_animal = animal[3]  \n",
    "print(\"Middle animal:\", middle_animal)  \n",
    "\n",
    "# Change the value of an element at a specific index\n",
    "animal[1] = \"lion\"  \n",
    "print(\"Updated animal:\", animal)  "
   ]
  },
  {
   "cell_type": "code",
   "execution_count": 30,
   "metadata": {},
   "outputs": [
    {
     "name": "stdout",
     "output_type": "stream",
     "text": [
      "Positive Slicing: []\n",
      "Positive Slicing with Step: []\n",
      "Negative Slicing: []\n",
      "Negative Slicing with Reverse: []\n",
      "Retrieve a Portion: []\n",
      "Update a Slice: ['hyena', 'hippo']\n",
      "Delete a Slice: ['hyena', 'hippo']\n",
      "Insert into a Slice: ['hyena', 'tiger', 'lion', 'hippo']\n"
     ]
    }
   ],
   "source": [
    "# Slice from index 1 to 4\n",
    "subset1 = animal[1:4]\n",
    "print(\"Positive Slicing:\", subset1)\n",
    "\n",
    "# Slice with a step\n",
    "subset2 = animal[1:6:2]\n",
    "print(\"Positive Slicing with Step:\", subset2)\n",
    "\n",
    "# Slice the last three elements\n",
    "subset3 = animal[-3:]\n",
    "print(\"Negative Slicing:\", subset3)\n",
    "\n",
    "# Slice from the second to last to the fourth to last\n",
    "subset4 = animal[-2:-5:-1]\n",
    "print(\"Negative Slicing with Reverse:\", subset4)\n",
    "\n",
    "# Extract a portion of the list\n",
    "middle_subset = animal[2:5]\n",
    "print(\"Retrieve a Portion:\", middle_subset)\n",
    "\n",
    "# Update elements within a slice\n",
    "animal[1:3] = [\"hyena\", \"hippo\"]\n",
    "print(\"Update a Slice:\", animal)\n",
    "\n",
    "# Remove elements within a slice\n",
    "del animal[2:4]\n",
    "print(\"Delete a Slice:\", animal)\n",
    "\n",
    "# Add elements into a specific position\n",
    "animal[1:1] = [\"tiger\", \"lion\"]\n",
    "print(\"Insert into a Slice:\", animal)"
   ]
  },
  {
   "cell_type": "code",
   "execution_count": 31,
   "metadata": {},
   "outputs": [
    {
     "name": "stdout",
     "output_type": "stream",
     "text": [
      "Is 'dog' in the list? True\n",
      "Index of 'dog': 1\n",
      "Found element: None\n"
     ]
    }
   ],
   "source": [
    "# Searching\n",
    "# Create a list of animals\n",
    "animals = [\"hyena\", \"dog\", \"hippo\", \"lion\", \"tiger\"]\n",
    "\n",
    "# Checking if an element exists in the list\n",
    "has_dog = \"dog\" in animals\n",
    "print(\"Is 'dog' in the list?\", has_dog)\n",
    "\n",
    "# Finding the index of an element\n",
    "dog_index = animals.index(\"dog\")\n",
    "print(\"Index of 'dog':\", dog_index)\n",
    "\n",
    "# Iterating through the list to find a specific element\n",
    "element_to_find = \"hamster\"\n",
    "found_element = None\n",
    "for animal in animals:\n",
    "    if animal == element_to_find:\n",
    "        found_element = animal\n",
    "        break\n",
    "print(\"Found element:\", found_element)"
   ]
  },
  {
   "cell_type": "code",
   "execution_count": null,
   "metadata": {},
   "outputs": [],
   "source": []
  }
 ],
 "metadata": {
  "kernelspec": {
   "display_name": "base",
   "language": "python",
   "name": "python3"
  },
  "language_info": {
   "codemirror_mode": {
    "name": "ipython",
    "version": 3
   },
   "file_extension": ".py",
   "mimetype": "text/x-python",
   "name": "python",
   "nbconvert_exporter": "python",
   "pygments_lexer": "ipython3",
   "version": "3.11.4"
  }
 },
 "nbformat": 4,
 "nbformat_minor": 2
}
