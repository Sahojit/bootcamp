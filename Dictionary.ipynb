{
 "cells": [
  {
   "cell_type": "code",
   "execution_count": 2,
   "metadata": {},
   "outputs": [],
   "source": [
    "# Using the dict() constructor\n",
    "empty_dict = dict()\n",
    "\n",
    "# Using curly braces\n",
    "person = {'name': 'Jeet', 'age': 19, 'city': 'Dibrugarh'}"
   ]
  },
  {
   "cell_type": "code",
   "execution_count": 7,
   "metadata": {},
   "outputs": [
    {
     "name": "stdout",
     "output_type": "stream",
     "text": [
      "Jeet\n",
      "19\n"
     ]
    }
   ],
   "source": [
    "# Accessing values\n",
    "print(person['name'])  \n",
    "print(person.get('age'))    \n",
    "\n",
    "# Modifying values\n",
    "person['age'] = 19"
   ]
  },
  {
   "cell_type": "code",
   "execution_count": 8,
   "metadata": {},
   "outputs": [
    {
     "name": "stdout",
     "output_type": "stream",
     "text": [
      "Jeet\n",
      "Dibrugarh\n"
     ]
    }
   ],
   "source": [
    "# Representing a person object\n",
    "person = {\n",
    "    'name': 'Jeet',\n",
    "    'age': 19,\n",
    "    'address': {\n",
    "        'street': 'Dibrugarh',\n",
    "        'city': 'Dibrugarh',\n",
    "        'state': 'Assam'\n",
    "    }\n",
    "}\n",
    "\n",
    "# Accessing nested data\n",
    "print(person['name'])  \n",
    "print(person['address']['city']) "
   ]
  },
  {
   "cell_type": "code",
   "execution_count": 9,
   "metadata": {},
   "outputs": [],
   "source": [
    "# Configuration settings for an application\n",
    "config = {\n",
    "    'debug': True,\n",
    "    'log_file': 'app.log',\n",
    "    'database': {\n",
    "        'host': 'localhost',\n",
    "        'user': 'root',\n",
    "        'password': 'secret'\n",
    "    }\n",
    "}\n",
    "\n",
    "# Accessing configuration values\n",
    "debug_mode = config['debug']\n",
    "log_file = config['log_file']\n",
    "db_host = config['database']['host']"
   ]
  },
  {
   "cell_type": "code",
   "execution_count": 17,
   "metadata": {},
   "outputs": [
    {
     "name": "stdout",
     "output_type": "stream",
     "text": [
      "{'My': 1, 'name': 2, 'is': 2, 'Jeet.': 1, 'His': 1, 'Avi': 1}\n"
     ]
    }
   ],
   "source": [
    "# Counting word occurrences in a sentence\n",
    "sentence = \"My name is Jeet. His name is Avi\"\n",
    "word_counts = {}\n",
    "\n",
    "for word in sentence.split():\n",
    "    if word in word_counts:\n",
    "        word_counts[word] += 1\n",
    "    else:\n",
    "        word_counts[word] = 1\n",
    "\n",
    "print(word_counts)  "
   ]
  },
  {
   "cell_type": "code",
   "execution_count": 18,
   "metadata": {},
   "outputs": [
    {
     "name": "stdout",
     "output_type": "stream",
     "text": [
      "[]\n",
      "{'Dibrugarh': [{'name': 'Jeet', 'age': 19, 'city': 'Dibrugarh'}, {'name': 'Avi', 'age': 20, 'city': 'Dibrugarh'}], 'Tezpur': [{'name': 'Adarsh', 'age': 20, 'city': 'Tezpur'}]}\n"
     ]
    }
   ],
   "source": [
    "# Data manipulation and filtering\n",
    "data = [\n",
    "    {'name': 'Jeet', 'age': 19, 'city': 'Dibrugarh'},\n",
    "    {'name': 'Avi', 'age': 20, 'city': 'Dibrugarh'},\n",
    "    {'name': 'Adarsh', 'age': 20, 'city': 'Tezpur'}\n",
    "]\n",
    "\n",
    "# Filtering data based on a condition\n",
    "filtered_data = [person for person in data if person['age'] > 20]\n",
    "print(filtered_data)  \n",
    "\n",
    "# Grouping data by city\n",
    "grouped_data = {}\n",
    "for person in data:\n",
    "    city = person['city']\n",
    "    if city in grouped_data:\n",
    "        grouped_data[city].append(person)\n",
    "    else:\n",
    "        grouped_data[city] = [person]\n",
    "\n",
    "print(grouped_data)"
   ]
  },
  {
   "cell_type": "code",
   "execution_count": 22,
   "metadata": {},
   "outputs": [
    {
     "name": "stdout",
     "output_type": "stream",
     "text": [
      "dict_keys(['name', 'age', 'city'])\n"
     ]
    }
   ],
   "source": [
    "#Keys()\n",
    "keys = person.keys()\n",
    "print(keys) "
   ]
  },
  {
   "cell_type": "code",
   "execution_count": 23,
   "metadata": {},
   "outputs": [
    {
     "name": "stdout",
     "output_type": "stream",
     "text": [
      "dict_values(['Adarsh', 20, 'Tezpur'])\n"
     ]
    }
   ],
   "source": [
    "#Values()\n",
    "values = person.values()\n",
    "print(values)"
   ]
  },
  {
   "cell_type": "code",
   "execution_count": 24,
   "metadata": {},
   "outputs": [
    {
     "name": "stdout",
     "output_type": "stream",
     "text": [
      "dict_items([('name', 'Adarsh'), ('age', 20), ('city', 'Tezpur')])\n"
     ]
    }
   ],
   "source": [
    "#items()\n",
    "items = person.items()\n",
    "print(items)"
   ]
  },
  {
   "cell_type": "code",
   "execution_count": 25,
   "metadata": {},
   "outputs": [
    {
     "name": "stdout",
     "output_type": "stream",
     "text": [
      "None\n",
      "0\n"
     ]
    }
   ],
   "source": [
    "#get()\n",
    "print(person.get('Name'))  \n",
    "print(person.get('phonenumber', 0))  "
   ]
  },
  {
   "cell_type": "code",
   "execution_count": 28,
   "metadata": {},
   "outputs": [
    {
     "name": "stdout",
     "output_type": "stream",
     "text": [
      "2\n",
      "{'lion': 1, 'tiger': 3}\n"
     ]
    }
   ],
   "source": [
    "#pop()\n",
    "my_dict = {'lion': 1, 'elephant': 2, 'tiger': 3}\n",
    "removed_value = my_dict.pop('elephant')\n",
    "print(removed_value) \n",
    "print(my_dict) "
   ]
  },
  {
   "cell_type": "code",
   "execution_count": 29,
   "metadata": {},
   "outputs": [
    {
     "name": "stdout",
     "output_type": "stream",
     "text": [
      "{}\n"
     ]
    }
   ],
   "source": [
    "#clear()\n",
    "my_dict.clear()\n",
    "print(my_dict)"
   ]
  },
  {
   "cell_type": "code",
   "execution_count": 30,
   "metadata": {},
   "outputs": [
    {
     "name": "stdout",
     "output_type": "stream",
     "text": [
      "{'name': 'Adarsh', 'age': 20, 'city': 'Tezpur'}\n"
     ]
    }
   ],
   "source": [
    "#copy()\n",
    "new_dic = person.copy()\n",
    "print(new_dic)"
   ]
  },
  {
   "cell_type": "code",
   "execution_count": 31,
   "metadata": {},
   "outputs": [],
   "source": [
    "person['email'] = '@example.com'  # Adding a new pair\n",
    "popped_value = person.pop('age')  # Removing a pair"
   ]
  },
  {
   "cell_type": "code",
   "execution_count": 33,
   "metadata": {},
   "outputs": [
    {
     "name": "stdout",
     "output_type": "stream",
     "text": [
      "{1: 1, 2: 4, 3: 9, 4: 16, 5: 25}\n"
     ]
    }
   ],
   "source": [
    "# List of numbers\n",
    "numbers = [1, 2, 3, 4, 5]\n",
    "\n",
    "# Dictionary with squares of numbers\n",
    "squares = {num: num**2 for num in numbers}\n",
    "print(squares)"
   ]
  },
  {
   "cell_type": "code",
   "execution_count": 34,
   "metadata": {},
   "outputs": [
    {
     "name": "stdout",
     "output_type": "stream",
     "text": [
      "{1: 'a', 2: 'b', 3: 'c'}\n"
     ]
    }
   ],
   "source": [
    "# Original dictionary\n",
    "original = {'a': 1, 'b': 2, 'c': 3}\n",
    "\n",
    "# New dictionary with keys and values swapped\n",
    "swapped = {value: key for key, value in original.items()}\n",
    "print(swapped)\n"
   ]
  },
  {
   "cell_type": "code",
   "execution_count": 35,
   "metadata": {},
   "outputs": [
    {
     "name": "stdout",
     "output_type": "stream",
     "text": [
      "{2: 8, 4: 64}\n"
     ]
    }
   ],
   "source": [
    "# List of numbers\n",
    "numbers = [1, 2, 3, 4, 5]\n",
    "\n",
    "# Dictionary with even numbers as keys and their cubes as values\n",
    "even_cubes = {num: num**3 for num in numbers if num % 2 == 0}\n",
    "print(even_cubes)\n"
   ]
  },
  {
   "cell_type": "code",
   "execution_count": 37,
   "metadata": {},
   "outputs": [
    {
     "name": "stdout",
     "output_type": "stream",
     "text": [
      "{'x': 1, 'y': 2, 'z': 3, 'a': 4, 'b': 5}\n"
     ]
    }
   ],
   "source": [
    "# List of keys\n",
    "keys = ['x', 'y', 'z', 'a', 'b']\n",
    "\n",
    "# List of values\n",
    "values = [1, 2, 3, 4, 5]\n",
    "\n",
    "# Dictionary from keys and values\n",
    "new_dict = {key: value for key, value in zip(keys, values)}\n",
    "print(new_dict)"
   ]
  },
  {
   "cell_type": "code",
   "execution_count": 39,
   "metadata": {},
   "outputs": [
    {
     "name": "stdout",
     "output_type": "stream",
     "text": [
      "Jeet26@gmail.com\n"
     ]
    }
   ],
   "source": [
    "#Nesting Dictionaries \n",
    "person = {\n",
    "    'name': 'Jeet',\n",
    "    'age': 19,\n",
    "    'contact': {\n",
    "        'email': 'Jeet26@gmail.com',\n",
    "        'phone': '6772278729'\n",
    "    }\n",
    "}\n",
    "\n",
    "print(person['contact']['email']) "
   ]
  },
  {
   "cell_type": "code",
   "execution_count": 40,
   "metadata": {},
   "outputs": [
    {
     "name": "stdout",
     "output_type": "stream",
     "text": [
      "{'My': 1, 'name': 2, 'is': 2, 'Jeet': 1, '.': 1, 'His': 1, 'Avi,': 1}\n",
      "[]\n"
     ]
    }
   ],
   "source": [
    "#Use cases\n",
    "\n",
    "#counting occurance \n",
    "\n",
    "sentence = \"My name is Jeet . His name is Avi,\"\n",
    "word_counts = {}\n",
    "\n",
    "for word in sentence.split():\n",
    "    if word in word_counts:\n",
    "        word_counts[word] += 1\n",
    "    else:\n",
    "        word_counts[word] = 1\n",
    "\n",
    "print(word_counts)  \n",
    "\n",
    "#Data manipulation and analysis\n",
    "\n",
    "data = [\n",
    "    {'name': 'Jeet', 'age': 19, 'city': 'Dibrugarh'},\n",
    "    {'name': 'Avi', 'age': 20, 'city': 'Dibrugarh'},\n",
    "    {'name': 'Adarsh', 'age': 20, 'city': 'Tezpur'}\n",
    "]\n",
    "\n",
    "filtered_data = [person for person in data if person['age'] > 20]\n",
    "print(filtered_data)  \n",
    "\n"
   ]
  },
  {
   "cell_type": "code",
   "execution_count": 41,
   "metadata": {},
   "outputs": [
    {
     "ename": "NameError",
     "evalue": "name 'lion' is not defined",
     "output_type": "error",
     "traceback": [
      "\u001b[1;31m---------------------------------------------------------------------------\u001b[0m",
      "\u001b[1;31mNameError\u001b[0m                                 Traceback (most recent call last)",
      "Cell \u001b[1;32mIn[41], line 2\u001b[0m\n\u001b[0;32m      1\u001b[0m \u001b[38;5;66;03m# Finding common elements between two lists\u001b[39;00m\n\u001b[1;32m----> 2\u001b[0m list1 \u001b[38;5;241m=\u001b[39m [lion, tiger, elephant]\n\u001b[0;32m      3\u001b[0m list2 \u001b[38;5;241m=\u001b[39m [tiger, elephant , zebra]\n\u001b[0;32m      5\u001b[0m set1 \u001b[38;5;241m=\u001b[39m \u001b[38;5;28mset\u001b[39m(list1)\n",
      "\u001b[1;31mNameError\u001b[0m: name 'lion' is not defined"
     ]
    }
   ],
   "source": [
    "# Finding common elements between two lists\n",
    "list1 = [lion, tiger, elephant]\n",
    "list2 = [tiger, elephant , zebra]\n",
    "\n",
    "set1 = set(list1)\n",
    "set2 = set(list2)\n",
    "\n",
    "common_elements = set1.intersection(set2)\n",
    "print(common_elements)  \n",
    "\n",
    "# Counting unique elements\n",
    "elements = [lion, tiger, elephant, tiger, elephant, lion]\n",
    "unique_counts = {element: elements.count(element) for element in set(elements)}\n",
    "print(unique_counts) "
   ]
  },
  {
   "cell_type": "code",
   "execution_count": 42,
   "metadata": {},
   "outputs": [
    {
     "name": "stdout",
     "output_type": "stream",
     "text": [
      "{'dibrugarh': [{'name': 'Jeet', 'age': 19, 'city': 'dibrugarh'}, {'name': 'Avi', 'age': 20, 'city': 'dibrugarh'}, {'name': 'Joyboy', 'age': 24, 'city': 'dibrugarh'}], 'Tezpue': [{'name': 'Adarsh', 'age': 20, 'city': 'Tezpue'}]}\n"
     ]
    }
   ],
   "source": [
    "#Data Manipulation\n",
    "# List of dictionaries\n",
    "data = [\n",
    "    {'name': 'Jeet', 'age': 19, 'city': 'dibrugarh'},\n",
    "    {'name': 'Avi', 'age': 20, 'city': 'dibrugarh'},\n",
    "    {'name': 'Adarsh', 'age': 20, 'city': 'Tezpue'},\n",
    "    {\"name\": \"Joyboy\", \"age\": 24, \"city\": \"dibrugarh\"}\n",
    "]\n",
    "\n",
    "# Grouping data by city\n",
    "grouped_data = {}\n",
    "for person in data:\n",
    "    city = person[\"city\"]\n",
    "    if city in grouped_data:\n",
    "        grouped_data[city].append(person)\n",
    "    else:\n",
    "        grouped_data[city] = [person]\n",
    "\n",
    "print(grouped_data)"
   ]
  },
  {
   "cell_type": "code",
   "execution_count": 47,
   "metadata": {},
   "outputs": [
    {
     "name": "stdout",
     "output_type": "stream",
     "text": [
      "[{'name': 'Jeet', 'age': 19, 'city': 'dibrugarh'}, {'name': 'Avi', 'age': 20, 'city': 'dibrugarh'}, {'name': 'Adarsh', 'age': 20, 'city': 'Tezpue'}, {'name': 'Joyboy', 'age': 24, 'city': 'dibrugarh'}]\n"
     ]
    }
   ],
   "source": [
    "# data filtering\n",
    "# List of dictionaries\n",
    "data = [\n",
    "     {'name': 'Jeet', 'age': 19, 'city': 'dibrugarh'},\n",
    "    {'name': 'Avi', 'age': 20, 'city': 'dibrugarh'},\n",
    "    {'name': 'Adarsh', 'age': 20, 'city': 'Tezpue'},\n",
    "    {\"name\": \"Joyboy\", \"age\": 24, \"city\": \"dibrugarh\"}\n",
    "]\n",
    "\n",
    "# Filtering data based on age\n",
    "filtered_data = [person for person in data if person[\"age\"] > 18]\n",
    "\n",
    "print(filtered_data)"
   ]
  },
  {
   "cell_type": "code",
   "execution_count": 48,
   "metadata": {},
   "outputs": [
    {
     "name": "stdout",
     "output_type": "stream",
     "text": [
      "{'dibrugarh': 21.0, 'Tezpue': 20.0}\n"
     ]
    }
   ],
   "source": [
    "#Data Analysis\n",
    "# List of dictionaries\n",
    "data = [\n",
    "     {'name': 'Jeet', 'age': 19, 'city': 'dibrugarh'},\n",
    "    {'name': 'Avi', 'age': 20, 'city': 'dibrugarh'},\n",
    "    {'name': 'Adarsh', 'age': 20, 'city': 'Tezpue'},\n",
    "    {\"name\": \"Joyboy\", \"age\": 24, \"city\": \"dibrugarh\"}\n",
    "]\n",
    "\n",
    "# Calculating average age by city\n",
    "city_ages = {}\n",
    "for person in data:\n",
    "    city = person[\"city\"]\n",
    "    age = person[\"age\"]\n",
    "    if city in city_ages:\n",
    "        city_ages[city].append(age)\n",
    "    else:\n",
    "        city_ages[city] = [age]\n",
    "\n",
    "average_ages = {city: sum(ages) / len(ages) for city, ages in city_ages.items()}\n",
    "\n",
    "print(average_ages)"
   ]
  },
  {
   "cell_type": "code",
   "execution_count": null,
   "metadata": {},
   "outputs": [],
   "source": []
  }
 ],
 "metadata": {
  "kernelspec": {
   "display_name": "base",
   "language": "python",
   "name": "python3"
  },
  "language_info": {
   "codemirror_mode": {
    "name": "ipython",
    "version": 3
   },
   "file_extension": ".py",
   "mimetype": "text/x-python",
   "name": "python",
   "nbconvert_exporter": "python",
   "pygments_lexer": "ipython3",
   "version": "3.11.4"
  }
 },
 "nbformat": 4,
 "nbformat_minor": 2
}
