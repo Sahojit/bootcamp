{
 "cells": [
  {
   "cell_type": "code",
   "execution_count": null,
   "metadata": {},
   "outputs": [],
   "source": [
    "#import the tkinter module\n",
    "from tkinter import *\n",
    "\n",
    "#create  a window\n",
    "window = Tk()\n",
    "window.mainloop()_#place window on a computer screen\n",
    "\n",
    "#set dimensions of window\n",
    "window.geometry('420x420')\n",
    "\n",
    "#to set title\n",
    "window.title()\n",
    "\n",
    "#create labels(an area widget that holds text and/or an image within a window)\n",
    "label = Label(window,text=\"Hello world\")\n",
    "\n",
    "#add label to a window\n",
    "label.place(x=0,y=0)\n",
    "\n",
    "#create buttons\n",
    "button = Button(window, text=\"Click me\",font=\"algerian\")\n",
    "\n",
    "#add button to main window\n",
    "button.pack()\n",
    "\n",
    "#add image to a button\n",
    "image = imagephoto()\n",
    "button = button(photo=image)\n",
    "\n",
    "#create radio buttons\n",
    "radiobutton =Radiobutton(window, text='food')\n",
    "\n",
    "#create a list box(a listing of selectable text items within its own container)\n",
    "listbox=Listbox(window,text='hemlo')\n",
    "\n",
    "#create a message box\n",
    "messagebox.showinginfo(title='hello world')\n",
    "\n",
    "\n",
    "\n",
    "\n",
    "\n"
   ]
  }
 ],
 "metadata": {
  "kernelspec": {
   "display_name": "base",
   "language": "python",
   "name": "python3"
  },
  "language_info": {
   "codemirror_mode": {
    "name": "ipython",
    "version": 3
   },
   "file_extension": ".py",
   "mimetype": "text/x-python",
   "name": "python",
   "nbconvert_exporter": "python",
   "pygments_lexer": "ipython3",
   "version": "3.11.4"
  }
 },
 "nbformat": 4,
 "nbformat_minor": 2
}
