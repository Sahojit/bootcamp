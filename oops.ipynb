{
 "cells": [
  {
   "cell_type": "code",
   "execution_count": 2,
   "metadata": {},
   "outputs": [
    {
     "name": "stdout",
     "output_type": "stream",
     "text": [
      "Lion\n",
      "5\n",
      "Animal\n",
      "This is a Lion and it is 5 years old.\n"
     ]
    }
   ],
   "source": [
    "# Define a class\n",
    "class Animal:\n",
    "    # Class attribute\n",
    "    kingdom = \"Animal\"\n",
    "\n",
    "    # Constructor method\n",
    "    def __init__(self, species, age):\n",
    "        self.species = species  # Instance attribute\n",
    "        self.age = age  # Instance attribute\n",
    "\n",
    "    # Instance method\n",
    "    def describe(self):\n",
    "        print(f\"This is a {self.species} and it is {self.age} years old.\")\n",
    "\n",
    "# Create an object (instance of the class)\n",
    "animal1 = Animal(\"Lion\", 5)\n",
    "\n",
    "# Access attributes\n",
    "print(animal1.species)  \n",
    "print(animal1.age)  \n",
    "print(animal1.kingdom)  \n",
    "\n",
    "# Call the method\n",
    "animal1.describe() \n"
   ]
  },
  {
   "cell_type": "code",
   "execution_count": 3,
   "metadata": {},
   "outputs": [
    {
     "name": "stdout",
     "output_type": "stream",
     "text": [
      "Updated GPA to 3.8 for student ID S123456\n",
      "3.8\n"
     ]
    }
   ],
   "source": [
    "# Data Encapsulation: Data encapsulation is the bundling of data and methods that operate on that data within a single unit (class) and restricting direct access to the data from outside the class.\n",
    "\n",
    "class Student:\n",
    "    def __init__(self, student_id, gpa):\n",
    "        self.__student_id = student_id  # Private attribute\n",
    "        self.__gpa = gpa  # Private attribute\n",
    "\n",
    "    def update_gpa(self, new_gpa):\n",
    "        if 0.0 <= new_gpa <= 4.0:\n",
    "            self.__gpa = new_gpa\n",
    "            print(f\"Updated GPA to {new_gpa} for student ID {self.__student_id}\")\n",
    "        else:\n",
    "            print(\"Invalid GPA value\")\n",
    "\n",
    "    def get_gpa(self):\n",
    "        return self.__gpa\n",
    "\n",
    "    def get_student_id(self):\n",
    "        return self.__student_id\n",
    "\n",
    "# Usage\n",
    "student = Student(\"S123456\", 3.5)\n",
    "student.update_gpa(3.8)  # Output: Updated GPA to 3.8 for student ID S123456\n",
    "print(student.get_gpa())  # Output: 3.8\n",
    "\n",
    "# Attempting to access private attributes directly (not possible)\n",
    "# print(student.__student_id)  # AttributeError: 'Student' object has no attribute '__student_id'\n",
    "# print(student.__gpa)  # AttributeError: 'Student' object has no attribute '__gpa'\n"
   ]
  },
  {
   "cell_type": "code",
   "execution_count": 4,
   "metadata": {},
   "outputs": [
    {
     "name": "stdout",
     "output_type": "stream",
     "text": [
      "Borrowed 2 copy/copies of 'The Great Gatsby'\n",
      "Returned 1 copy/copies of 'The Great Gatsby'\n",
      "4\n"
     ]
    }
   ],
   "source": [
    "# Data abstraction: Data abstraction is the process of hiding the internal implementation details and exposing only the necessary information or interface to the outside world.\n",
    "\n",
    "class LibraryBook:\n",
    "    def __init__(self, title, author, total_copies):\n",
    "        self._title = title\n",
    "        self._author = author\n",
    "        self._total_copies = total_copies\n",
    "        self._available_copies = total_copies\n",
    "\n",
    "    def borrow(self, copies):\n",
    "        if 0 < copies <= self._available_copies:\n",
    "            self._available_copies -= copies\n",
    "            print(f\"Borrowed {copies} copy/copies of '{self._title}'\")\n",
    "        else:\n",
    "            print(\"Invalid number of copies or not enough copies available\")\n",
    "\n",
    "    def return_book(self, copies):\n",
    "        if copies > 0:\n",
    "            self._available_copies += copies\n",
    "            print(f\"Returned {copies} copy/copies of '{self._title}'\")\n",
    "        else:\n",
    "            print(\"Invalid number of copies\")\n",
    "\n",
    "    def get_available_copies(self):\n",
    "        return self._available_copies\n",
    "\n",
    "# Usage\n",
    "book = LibraryBook(\"The Great Gatsby\", \"F. Scott Fitzgerald\", 5)\n",
    "book.borrow(2)\n",
    "book.return_book(1)\n",
    "print(book.get_available_copies())\n"
   ]
  },
  {
   "cell_type": "code",
   "execution_count": 5,
   "metadata": {},
   "outputs": [
    {
     "name": "stdout",
     "output_type": "stream",
     "text": [
      "John Doe\n",
      "E12345\n",
      "3000\n",
      "3500\n",
      "42000\n"
     ]
    }
   ],
   "source": [
    "# Data hiding: It is the principle of preventing direct access to an object's internal data and methods from outside the class, except through the object's public interface.\n",
    "\n",
    "class Employee:\n",
    "    def __init__(self, name, employee_id, salary):\n",
    "        self.__name = name  # Private attribute\n",
    "        self.__employee_id = employee_id  # Private attribute\n",
    "        self.__salary = salary  # Private attribute\n",
    "\n",
    "    def get_name(self):\n",
    "        return self.__name\n",
    "\n",
    "    def get_employee_id(self):\n",
    "        return self.__employee_id\n",
    "\n",
    "    def get_salary(self):\n",
    "        return self.__salary\n",
    "\n",
    "    def set_salary(self, new_salary):\n",
    "        if new_salary > 0:\n",
    "            self.__salary = new_salary\n",
    "        else:\n",
    "            print(\"Invalid salary amount\")\n",
    "\n",
    "    def get_annual_salary(self):\n",
    "        return self.__salary * 12\n",
    "\n",
    "# Usage\n",
    "employee = Employee(\"John Doe\", \"E12345\", 3000)\n",
    "\n",
    "# Access public methods\n",
    "print(employee.get_name())  \n",
    "print(employee.get_employee_id())  \n",
    "print(employee.get_salary())  \n",
    "\n",
    "# Modify salary through the public method\n",
    "employee.set_salary(3500)\n",
    "print(employee.get_salary())  \n",
    "\n",
    "# Calculate annual salary\n",
    "annual_salary = employee.get_annual_salary()\n",
    "print(annual_salary) \n",
    "\n",
    "# Attempting to access private attributes directly (not possible)\n",
    "# print(employee.__name)  # AttributeError: 'Employee' object has no attribute '__name'\n",
    "# print(employee.__employee_id)  # AttributeError: 'Employee' object has no attribute '__employee_id'\n",
    "# print(employee.__salary)  # AttributeError: 'Employee' object has no attribute '__salary'\n"
   ]
  },
  {
   "cell_type": "code",
   "execution_count": 6,
   "metadata": {},
   "outputs": [
    {
     "name": "stdout",
     "output_type": "stream",
     "text": [
      "Instance method executed. Instance value: This is an instance value\n",
      "Class method executed. Class value: This is a class value\n",
      "Static method executed with parameter: Hello World!\n"
     ]
    }
   ],
   "source": [
    "#  methods in class\n",
    "# Instance methods \n",
    "class Sample:\n",
    "    def __init__(self, instance_value):\n",
    "        self.instance_value = instance_value\n",
    "\n",
    "    def show_instance(self):\n",
    "        return f\"Instance method executed. Instance value: {self.instance_value}\"\n",
    "# Creating an instance of the class\n",
    "sample = Sample(\"This is an instance value\")\n",
    "# Calling the instance method\n",
    "print(sample.show_instance())\n",
    "\n",
    "# Class method\n",
    "class Sample:\n",
    "    class_value = \"This is a class value\"\n",
    "\n",
    "    @classmethod\n",
    "    def show_class(cls):\n",
    "        return f\"Class method executed. Class value: {cls.class_value}\"\n",
    "# Calling the class method\n",
    "print(Sample.show_class())\n",
    "\n",
    "# Static method\n",
    "class Sample:\n",
    "    @staticmethod\n",
    "    def show_static(param):\n",
    "        return f\"Static method executed with parameter: {param}\"\n",
    "# Calling the static method\n",
    "print(Sample.show_static(\"Hello World!\"))\n"
   ]
  },
  {
   "cell_type": "code",
   "execution_count": 7,
   "metadata": {},
   "outputs": [
    {
     "name": "stdout",
     "output_type": "stream",
     "text": [
      "Value of instance 1\n",
      "This is a class value\n",
      "This is a modified class value\n"
     ]
    }
   ],
   "source": [
    "# Data members in class\n",
    "# Instance variable\n",
    "class Sample:\n",
    "    def __init__(self, instance_value):\n",
    "        self.instance_value = instance_value\n",
    "# Creating an instance of the class\n",
    "sample1 = Sample(\"Value of instance 1\")\n",
    "# Accessing instance variables\n",
    "print(sample1.instance_value)\n",
    "\n",
    "# Class variable\n",
    "class Sample:\n",
    "    class_value = \"This is a class value\"\n",
    "# Accessing class variable\n",
    "print(Sample.class_value)\n",
    "# Modifying class variable\n",
    "Sample.class_value = \"This is a modified class value\"\n",
    "# Accessing modified class variable\n",
    "print(Sample.class_value)\n"
   ]
  },
  {
   "cell_type": "code",
   "execution_count": 8,
   "metadata": {},
   "outputs": [
    {
     "name": "stdout",
     "output_type": "stream",
     "text": [
      "Hi Sneha, this is Rahul. Pleasure to meet you!\n",
      "Emma\n",
      "Activity: Running is scheduled\n",
      "Activity: Meeting at 3 PM\n",
      "Single activity: Yoga\n",
      "Two activities: Swimming, Reading\n"
     ]
    }
   ],
   "source": [
    "# Methods with arguements\n",
    "# Method Passes Object as an Argument:\n",
    "class Person:\n",
    "    def __init__(self, name):\n",
    "        self.name = name\n",
    "\n",
    "    def introduce_self(self):\n",
    "        return f\"Hello, my name is {self.name}\"\n",
    "\n",
    "    def introduce_partner(self, partner):\n",
    "        return f\"Hi {partner.name}, this is {self.name}. Pleasure to meet you!\"\n",
    "# Creating instances of the class\n",
    "person1 = Person(\"Rahul\")\n",
    "person2 = Person(\"Sneha\")\n",
    "# Calling the method with an object as an argument\n",
    "print(person1.introduce_partner(person2))\n",
    "\n",
    "# Method Returns Object:\n",
    "class Person:\n",
    "    def __init__(self, name):\n",
    "        self.name = name\n",
    "\n",
    "    def make_partner(self, partner_name):\n",
    "        return Person(partner_name)\n",
    "# Creating an instance of the class\n",
    "individual = Person(\"John\")\n",
    "# Calling the method that returns an object\n",
    "partner = individual.make_partner(\"Emma\")\n",
    "print(partner.name)\n",
    "\n",
    "# Method Overloading using Default Argument Values:\n",
    "class Person:\n",
    "    def action(self, activity, time=None):\n",
    "        if time is None:\n",
    "            # Behavior for method with one argument\n",
    "            return f\"Activity: {activity} is scheduled\"\n",
    "        else:\n",
    "            # Behavior for method with two arguments\n",
    "            return f\"Activity: {activity} at {time}\"\n",
    "# Creating an instance of the class\n",
    "person = Person()\n",
    "# Calling the overloaded methods\n",
    "print(person.action(\"Running\"))\n",
    "print(person.action(\"Meeting\", \"3 PM\"))\n",
    "\n",
    "# Method Overloading using Variable-Length Argument Lists (Args and Kwargs)\n",
    "class Person:\n",
    "    def action(self, *activities):\n",
    "        if len(activities) == 1:\n",
    "            # Behavior for method with one argument\n",
    "            return f\"Single activity: {activities[0]}\"\n",
    "        elif len(activities) == 2:\n",
    "            # Behavior for method with two arguments\n",
    "            return f\"Two activities: {activities[0]}, {activities[1]}\"\n",
    "        else:\n",
    "            # Handle other cases\n",
    "            return \"Multiple activities provided\"\n",
    "# Creating an instance of the class\n",
    "person = Person()\n",
    "# Calling the overloaded methods\n",
    "print(person.action(\"Yoga\"))\n",
    "print(person.action(\"Swimming\", \"Reading\"))\n"
   ]
  },
  {
   "cell_type": "code",
   "execution_count": 12,
   "metadata": {},
   "outputs": [
    {
     "name": "stdout",
     "output_type": "stream",
     "text": [
      "Dog\n",
      "This is an animal of species: Cat\n",
      "Creating a new instance of Animal class\n"
     ]
    }
   ],
   "source": [
    "# special methods\n",
    "#__init__ method\n",
    "class Animal:\n",
    "    def __init__(self, species):\n",
    "        self.species = species\n",
    "# Creating an instance of the class\n",
    "dog = Animal(\"Dog\")\n",
    "print(dog.species)\n",
    "\n",
    "# __str__ method\n",
    "class Animal:\n",
    "    def __init__(self, species):\n",
    "        self.species = species\n",
    "\n",
    "    def __str__(self):\n",
    "        return f\"This is an animal of species: {self.species}\"\n",
    "# Creating an instance of the class\n",
    "cat = Animal(\"Cat\")\n",
    "print(cat)\n",
    "\n",
    "# __new__ method\n",
    "class Animal:\n",
    "    def __new__(cls, *args, **kwargs):\n",
    "        print(\"Creating a new instance of Animal class\")\n",
    "        instance = super().__new__(cls)\n",
    "        return instance\n",
    "\n",
    "    def __init__(self, species):\n",
    "        self.species = species\n",
    "# Creating an instance of the class\n",
    "lion = Animal(\"Lion\")\n"
   ]
  },
  {
   "cell_type": "code",
   "execution_count": 13,
   "metadata": {},
   "outputs": [
    {
     "name": "stdout",
     "output_type": "stream",
     "text": [
      "Initializing a car object of brand: Toyota\n",
      "Destructing car object of brand: Toyota\n",
      "Initializing a car object of brand: Honda\n"
     ]
    }
   ],
   "source": [
    "#constructor (__init__) and the \"destructor\" (__del__)\n",
    "class Car:\n",
    "    def __init__(self, brand):\n",
    "        self.brand = brand\n",
    "        print(f\"Initializing a car object of brand: {self.brand}\")\n",
    "\n",
    "    def __del__(self):\n",
    "        print(f\"Destructing car object of brand: {self.brand}\")\n",
    "\n",
    "# Creating an instance of the class\n",
    "car1 = Car(\"Toyota\")\n",
    "\n",
    "# Deleting the object explicitly\n",
    "del car1\n",
    "\n",
    "# Creating another instance\n",
    "car2 = Car(\"Honda\")\n",
    "\n",
    "# No explicit deletion; Python's garbage collector will handle it\n"
   ]
  }
 ],
 "metadata": {
  "kernelspec": {
   "display_name": "base",
   "language": "python",
   "name": "python3"
  },
  "language_info": {
   "codemirror_mode": {
    "name": "ipython",
    "version": 3
   },
   "file_extension": ".py",
   "mimetype": "text/x-python",
   "name": "python",
   "nbconvert_exporter": "python",
   "pygments_lexer": "ipython3",
   "version": "3.11.4"
  }
 },
 "nbformat": 4,
 "nbformat_minor": 2
}
